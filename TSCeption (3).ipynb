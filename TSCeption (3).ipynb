{
  "nbformat": 4,
  "nbformat_minor": 0,
  "metadata": {
    "colab": {
      "provenance": []
    },
    "kernelspec": {
      "name": "python3",
      "display_name": "Python 3"
    },
    "language_info": {
      "name": "python"
    }
  },
  "cells": [
    {
      "cell_type": "markdown",
      "source": [
        "# **TSCeption: Deep Learning Architecture for EEG Data Classification**"
      ],
      "metadata": {
        "id": "gMd2xXT-Xyaq"
      }
    },
    {
      "cell_type": "markdown",
      "source": [
        "### Introduction\n",
        "The TSCeption architecture is tailored for EEG (Electroencephalography) data classification, focusing on sequential data characteristics found in brain activity recordings. It combines convolutional and recurrent neural networks to effectively capture spatial and temporal dependencies within EEG signals.\n",
        "\n",
        "Beginning with Conv1D layers, TSCeption extracts hierarchical features across different temporal scales, supported by batch normalization for stability. MaxPooling layers then downsample the features, enhancing computational efficiency while preserving information richness.\n",
        "\n",
        "Incorporating an LSTM layer, TSCeption models long-term dependencies in EEG time series, critical for understanding cognitive state transitions during tasks like mental arithmetic. Dense layers with dropout regularization ensure robust classification, using softmax activation for accurate state identification.\n",
        "\n",
        "This approach involves rigorous preprocessing, including artifact removal and feature extraction via Power Spectral Density (PSD) analysis. Supervised learning optimizes model performance metrics like accuracy, validated through thorough evaluation on independent test data. TSCeption thus offers a robust framework for EEG classification, uncovering insights into cognitive processes from brain activity data."
      ],
      "metadata": {
        "id": "Uh6_l6FUX3S-"
      }
    },
    {
      "cell_type": "code",
      "execution_count": null,
      "metadata": {
        "colab": {
          "base_uri": "https://localhost:8080/"
        },
        "collapsed": true,
        "id": "VRrPzOXD0Of0",
        "outputId": "7dabf443-4c90-45ef-8f29-eed13371887d"
      },
      "outputs": [
        {
          "output_type": "stream",
          "name": "stdout",
          "text": [
            "Collecting mne\n",
            "  Downloading mne-1.7.1-py3-none-any.whl (7.4 MB)\n",
            "\u001b[2K     \u001b[90m━━━━━━━━━━━━━━━━━━━━━━━━━━━━━━━━━━━━━━━━\u001b[0m \u001b[32m7.4/7.4 MB\u001b[0m \u001b[31m18.2 MB/s\u001b[0m eta \u001b[36m0:00:00\u001b[0m\n",
            "\u001b[?25hRequirement already satisfied: decorator in /usr/local/lib/python3.10/dist-packages (from mne) (4.4.2)\n",
            "Requirement already satisfied: jinja2 in /usr/local/lib/python3.10/dist-packages (from mne) (3.1.3)\n",
            "Requirement already satisfied: lazy-loader>=0.3 in /usr/local/lib/python3.10/dist-packages (from mne) (0.4)\n",
            "Requirement already satisfied: matplotlib>=3.5.0 in /usr/local/lib/python3.10/dist-packages (from mne) (3.7.1)\n",
            "Requirement already satisfied: numpy>=1.21.2 in /usr/local/lib/python3.10/dist-packages (from mne) (1.25.2)\n",
            "Requirement already satisfied: packaging in /usr/local/lib/python3.10/dist-packages (from mne) (24.0)\n",
            "Requirement already satisfied: pooch>=1.5 in /usr/local/lib/python3.10/dist-packages (from mne) (1.8.1)\n",
            "Requirement already satisfied: scipy>=1.7.1 in /usr/local/lib/python3.10/dist-packages (from mne) (1.11.4)\n",
            "Requirement already satisfied: tqdm in /usr/local/lib/python3.10/dist-packages (from mne) (4.66.2)\n",
            "Requirement already satisfied: contourpy>=1.0.1 in /usr/local/lib/python3.10/dist-packages (from matplotlib>=3.5.0->mne) (1.2.1)\n",
            "Requirement already satisfied: cycler>=0.10 in /usr/local/lib/python3.10/dist-packages (from matplotlib>=3.5.0->mne) (0.12.1)\n",
            "Requirement already satisfied: fonttools>=4.22.0 in /usr/local/lib/python3.10/dist-packages (from matplotlib>=3.5.0->mne) (4.51.0)\n",
            "Requirement already satisfied: kiwisolver>=1.0.1 in /usr/local/lib/python3.10/dist-packages (from matplotlib>=3.5.0->mne) (1.4.5)\n",
            "Requirement already satisfied: pillow>=6.2.0 in /usr/local/lib/python3.10/dist-packages (from matplotlib>=3.5.0->mne) (9.4.0)\n",
            "Requirement already satisfied: pyparsing>=2.3.1 in /usr/local/lib/python3.10/dist-packages (from matplotlib>=3.5.0->mne) (3.1.2)\n",
            "Requirement already satisfied: python-dateutil>=2.7 in /usr/local/lib/python3.10/dist-packages (from matplotlib>=3.5.0->mne) (2.8.2)\n",
            "Requirement already satisfied: platformdirs>=2.5.0 in /usr/local/lib/python3.10/dist-packages (from pooch>=1.5->mne) (4.2.1)\n",
            "Requirement already satisfied: requests>=2.19.0 in /usr/local/lib/python3.10/dist-packages (from pooch>=1.5->mne) (2.31.0)\n",
            "Requirement already satisfied: MarkupSafe>=2.0 in /usr/local/lib/python3.10/dist-packages (from jinja2->mne) (2.1.5)\n",
            "Requirement already satisfied: six>=1.5 in /usr/local/lib/python3.10/dist-packages (from python-dateutil>=2.7->matplotlib>=3.5.0->mne) (1.16.0)\n",
            "Requirement already satisfied: charset-normalizer<4,>=2 in /usr/local/lib/python3.10/dist-packages (from requests>=2.19.0->pooch>=1.5->mne) (3.3.2)\n",
            "Requirement already satisfied: idna<4,>=2.5 in /usr/local/lib/python3.10/dist-packages (from requests>=2.19.0->pooch>=1.5->mne) (3.7)\n",
            "Requirement already satisfied: urllib3<3,>=1.21.1 in /usr/local/lib/python3.10/dist-packages (from requests>=2.19.0->pooch>=1.5->mne) (2.0.7)\n",
            "Requirement already satisfied: certifi>=2017.4.17 in /usr/local/lib/python3.10/dist-packages (from requests>=2.19.0->pooch>=1.5->mne) (2024.2.2)\n",
            "Installing collected packages: mne\n",
            "Successfully installed mne-1.7.1\n",
            "Requirement already satisfied: tensorflow in /usr/local/lib/python3.10/dist-packages (2.15.0)\n",
            "Requirement already satisfied: absl-py>=1.0.0 in /usr/local/lib/python3.10/dist-packages (from tensorflow) (1.4.0)\n",
            "Requirement already satisfied: astunparse>=1.6.0 in /usr/local/lib/python3.10/dist-packages (from tensorflow) (1.6.3)\n",
            "Requirement already satisfied: flatbuffers>=23.5.26 in /usr/local/lib/python3.10/dist-packages (from tensorflow) (24.3.25)\n",
            "Requirement already satisfied: gast!=0.5.0,!=0.5.1,!=0.5.2,>=0.2.1 in /usr/local/lib/python3.10/dist-packages (from tensorflow) (0.5.4)\n",
            "Requirement already satisfied: google-pasta>=0.1.1 in /usr/local/lib/python3.10/dist-packages (from tensorflow) (0.2.0)\n",
            "Requirement already satisfied: h5py>=2.9.0 in /usr/local/lib/python3.10/dist-packages (from tensorflow) (3.9.0)\n",
            "Requirement already satisfied: libclang>=13.0.0 in /usr/local/lib/python3.10/dist-packages (from tensorflow) (18.1.1)\n",
            "Requirement already satisfied: ml-dtypes~=0.2.0 in /usr/local/lib/python3.10/dist-packages (from tensorflow) (0.2.0)\n",
            "Requirement already satisfied: numpy<2.0.0,>=1.23.5 in /usr/local/lib/python3.10/dist-packages (from tensorflow) (1.25.2)\n",
            "Requirement already satisfied: opt-einsum>=2.3.2 in /usr/local/lib/python3.10/dist-packages (from tensorflow) (3.3.0)\n",
            "Requirement already satisfied: packaging in /usr/local/lib/python3.10/dist-packages (from tensorflow) (24.0)\n",
            "Requirement already satisfied: protobuf!=4.21.0,!=4.21.1,!=4.21.2,!=4.21.3,!=4.21.4,!=4.21.5,<5.0.0dev,>=3.20.3 in /usr/local/lib/python3.10/dist-packages (from tensorflow) (3.20.3)\n",
            "Requirement already satisfied: setuptools in /usr/local/lib/python3.10/dist-packages (from tensorflow) (67.7.2)\n",
            "Requirement already satisfied: six>=1.12.0 in /usr/local/lib/python3.10/dist-packages (from tensorflow) (1.16.0)\n",
            "Requirement already satisfied: termcolor>=1.1.0 in /usr/local/lib/python3.10/dist-packages (from tensorflow) (2.4.0)\n",
            "Requirement already satisfied: typing-extensions>=3.6.6 in /usr/local/lib/python3.10/dist-packages (from tensorflow) (4.11.0)\n",
            "Requirement already satisfied: wrapt<1.15,>=1.11.0 in /usr/local/lib/python3.10/dist-packages (from tensorflow) (1.14.1)\n",
            "Requirement already satisfied: tensorflow-io-gcs-filesystem>=0.23.1 in /usr/local/lib/python3.10/dist-packages (from tensorflow) (0.37.0)\n",
            "Requirement already satisfied: grpcio<2.0,>=1.24.3 in /usr/local/lib/python3.10/dist-packages (from tensorflow) (1.63.0)\n",
            "Requirement already satisfied: tensorboard<2.16,>=2.15 in /usr/local/lib/python3.10/dist-packages (from tensorflow) (2.15.2)\n",
            "Requirement already satisfied: tensorflow-estimator<2.16,>=2.15.0 in /usr/local/lib/python3.10/dist-packages (from tensorflow) (2.15.0)\n",
            "Requirement already satisfied: keras<2.16,>=2.15.0 in /usr/local/lib/python3.10/dist-packages (from tensorflow) (2.15.0)\n",
            "Requirement already satisfied: wheel<1.0,>=0.23.0 in /usr/local/lib/python3.10/dist-packages (from astunparse>=1.6.0->tensorflow) (0.43.0)\n",
            "Requirement already satisfied: google-auth<3,>=1.6.3 in /usr/local/lib/python3.10/dist-packages (from tensorboard<2.16,>=2.15->tensorflow) (2.27.0)\n",
            "Requirement already satisfied: google-auth-oauthlib<2,>=0.5 in /usr/local/lib/python3.10/dist-packages (from tensorboard<2.16,>=2.15->tensorflow) (1.2.0)\n",
            "Requirement already satisfied: markdown>=2.6.8 in /usr/local/lib/python3.10/dist-packages (from tensorboard<2.16,>=2.15->tensorflow) (3.6)\n",
            "Requirement already satisfied: requests<3,>=2.21.0 in /usr/local/lib/python3.10/dist-packages (from tensorboard<2.16,>=2.15->tensorflow) (2.31.0)\n",
            "Requirement already satisfied: tensorboard-data-server<0.8.0,>=0.7.0 in /usr/local/lib/python3.10/dist-packages (from tensorboard<2.16,>=2.15->tensorflow) (0.7.2)\n",
            "Requirement already satisfied: werkzeug>=1.0.1 in /usr/local/lib/python3.10/dist-packages (from tensorboard<2.16,>=2.15->tensorflow) (3.0.2)\n",
            "Requirement already satisfied: cachetools<6.0,>=2.0.0 in /usr/local/lib/python3.10/dist-packages (from google-auth<3,>=1.6.3->tensorboard<2.16,>=2.15->tensorflow) (5.3.3)\n",
            "Requirement already satisfied: pyasn1-modules>=0.2.1 in /usr/local/lib/python3.10/dist-packages (from google-auth<3,>=1.6.3->tensorboard<2.16,>=2.15->tensorflow) (0.4.0)\n",
            "Requirement already satisfied: rsa<5,>=3.1.4 in /usr/local/lib/python3.10/dist-packages (from google-auth<3,>=1.6.3->tensorboard<2.16,>=2.15->tensorflow) (4.9)\n",
            "Requirement already satisfied: requests-oauthlib>=0.7.0 in /usr/local/lib/python3.10/dist-packages (from google-auth-oauthlib<2,>=0.5->tensorboard<2.16,>=2.15->tensorflow) (1.3.1)\n",
            "Requirement already satisfied: charset-normalizer<4,>=2 in /usr/local/lib/python3.10/dist-packages (from requests<3,>=2.21.0->tensorboard<2.16,>=2.15->tensorflow) (3.3.2)\n",
            "Requirement already satisfied: idna<4,>=2.5 in /usr/local/lib/python3.10/dist-packages (from requests<3,>=2.21.0->tensorboard<2.16,>=2.15->tensorflow) (3.7)\n",
            "Requirement already satisfied: urllib3<3,>=1.21.1 in /usr/local/lib/python3.10/dist-packages (from requests<3,>=2.21.0->tensorboard<2.16,>=2.15->tensorflow) (2.0.7)\n",
            "Requirement already satisfied: certifi>=2017.4.17 in /usr/local/lib/python3.10/dist-packages (from requests<3,>=2.21.0->tensorboard<2.16,>=2.15->tensorflow) (2024.2.2)\n",
            "Requirement already satisfied: MarkupSafe>=2.1.1 in /usr/local/lib/python3.10/dist-packages (from werkzeug>=1.0.1->tensorboard<2.16,>=2.15->tensorflow) (2.1.5)\n",
            "Requirement already satisfied: pyasn1<0.7.0,>=0.4.6 in /usr/local/lib/python3.10/dist-packages (from pyasn1-modules>=0.2.1->google-auth<3,>=1.6.3->tensorboard<2.16,>=2.15->tensorflow) (0.6.0)\n",
            "Requirement already satisfied: oauthlib>=3.0.0 in /usr/local/lib/python3.10/dist-packages (from requests-oauthlib>=0.7.0->google-auth-oauthlib<2,>=0.5->tensorboard<2.16,>=2.15->tensorflow) (3.2.2)\n",
            "Collecting scikeras\n",
            "  Downloading scikeras-0.13.0-py3-none-any.whl (26 kB)\n",
            "Collecting keras>=3.2.0 (from scikeras)\n",
            "  Downloading keras-3.4.1-py3-none-any.whl (1.1 MB)\n",
            "\u001b[2K     \u001b[90m━━━━━━━━━━━━━━━━━━━━━━━━━━━━━━━━━━━━━━━━\u001b[0m \u001b[32m1.1/1.1 MB\u001b[0m \u001b[31m5.7 MB/s\u001b[0m eta \u001b[36m0:00:00\u001b[0m\n",
            "\u001b[?25hCollecting scikit-learn>=1.4.2 (from scikeras)\n",
            "  Downloading scikit_learn-1.5.1-cp310-cp310-manylinux_2_17_x86_64.manylinux2014_x86_64.whl (13.4 MB)\n",
            "\u001b[2K     \u001b[90m━━━━━━━━━━━━━━━━━━━━━━━━━━━━━━━━━━━━━━━━\u001b[0m \u001b[32m13.4/13.4 MB\u001b[0m \u001b[31m52.9 MB/s\u001b[0m eta \u001b[36m0:00:00\u001b[0m\n",
            "\u001b[?25hRequirement already satisfied: absl-py in /usr/local/lib/python3.10/dist-packages (from keras>=3.2.0->scikeras) (1.4.0)\n",
            "Requirement already satisfied: numpy in /usr/local/lib/python3.10/dist-packages (from keras>=3.2.0->scikeras) (1.25.2)\n",
            "Requirement already satisfied: rich in /usr/local/lib/python3.10/dist-packages (from keras>=3.2.0->scikeras) (13.7.1)\n",
            "Collecting namex (from keras>=3.2.0->scikeras)\n",
            "  Downloading namex-0.0.8-py3-none-any.whl (5.8 kB)\n",
            "Requirement already satisfied: h5py in /usr/local/lib/python3.10/dist-packages (from keras>=3.2.0->scikeras) (3.9.0)\n",
            "Collecting optree (from keras>=3.2.0->scikeras)\n",
            "  Downloading optree-0.12.0-cp310-cp310-manylinux_2_17_x86_64.manylinux2014_x86_64.whl (347 kB)\n",
            "\u001b[2K     \u001b[90m━━━━━━━━━━━━━━━━━━━━━━━━━━━━━━━━━━━━━━━━\u001b[0m \u001b[32m347.7/347.7 kB\u001b[0m \u001b[31m30.9 MB/s\u001b[0m eta \u001b[36m0:00:00\u001b[0m\n",
            "\u001b[?25hRequirement already satisfied: ml-dtypes in /usr/local/lib/python3.10/dist-packages (from keras>=3.2.0->scikeras) (0.2.0)\n",
            "Requirement already satisfied: packaging in /usr/local/lib/python3.10/dist-packages (from keras>=3.2.0->scikeras) (24.0)\n",
            "Requirement already satisfied: scipy>=1.6.0 in /usr/local/lib/python3.10/dist-packages (from scikit-learn>=1.4.2->scikeras) (1.11.4)\n",
            "Requirement already satisfied: joblib>=1.2.0 in /usr/local/lib/python3.10/dist-packages (from scikit-learn>=1.4.2->scikeras) (1.4.0)\n",
            "Requirement already satisfied: threadpoolctl>=3.1.0 in /usr/local/lib/python3.10/dist-packages (from scikit-learn>=1.4.2->scikeras) (3.5.0)\n",
            "Requirement already satisfied: typing-extensions>=4.5.0 in /usr/local/lib/python3.10/dist-packages (from optree->keras>=3.2.0->scikeras) (4.11.0)\n",
            "Requirement already satisfied: markdown-it-py>=2.2.0 in /usr/local/lib/python3.10/dist-packages (from rich->keras>=3.2.0->scikeras) (3.0.0)\n",
            "Requirement already satisfied: pygments<3.0.0,>=2.13.0 in /usr/local/lib/python3.10/dist-packages (from rich->keras>=3.2.0->scikeras) (2.16.1)\n",
            "Requirement already satisfied: mdurl~=0.1 in /usr/local/lib/python3.10/dist-packages (from markdown-it-py>=2.2.0->rich->keras>=3.2.0->scikeras) (0.1.2)\n",
            "Installing collected packages: namex, optree, scikit-learn, keras, scikeras\n",
            "  Attempting uninstall: scikit-learn\n",
            "    Found existing installation: scikit-learn 1.2.2\n",
            "    Uninstalling scikit-learn-1.2.2:\n",
            "      Successfully uninstalled scikit-learn-1.2.2\n",
            "  Attempting uninstall: keras\n",
            "    Found existing installation: keras 2.15.0\n",
            "    Uninstalling keras-2.15.0:\n",
            "      Successfully uninstalled keras-2.15.0\n",
            "\u001b[31mERROR: pip's dependency resolver does not currently take into account all the packages that are installed. This behaviour is the source of the following dependency conflicts.\n",
            "tensorflow 2.15.0 requires keras<2.16,>=2.15.0, but you have keras 3.4.1 which is incompatible.\u001b[0m\u001b[31m\n",
            "\u001b[0mSuccessfully installed keras-3.4.1 namex-0.0.8 optree-0.12.0 scikeras-0.13.0 scikit-learn-1.5.1\n"
          ]
        }
      ],
      "source": [
        "!pip install mne\n",
        "!pip install tensorflow\n",
        "\n",
        "!pip install scikeras"
      ]
    },
    {
      "cell_type": "code",
      "execution_count": null,
      "metadata": {
        "colab": {
          "base_uri": "https://localhost:8080/"
        },
        "id": "pHqRMWdH9dCv",
        "outputId": "feda1658-65a6-4042-ddac-18b7e8023454"
      },
      "outputs": [
        {
          "name": "stdout",
          "output_type": "stream",
          "text": [
            "Extracting EDF parameters from /content/drive/MyDrive/eeg-during-mental-arithmetic-tasks-1.0.0/Subject01_1.edf...\n",
            "EDF file detected\n",
            "Setting channel info structure...\n",
            "Creating raw.info structure...\n",
            "Reading 0 ... 90999  =      0.000 ...   181.998 secs...\n",
            "Fitting ICA to data using 21 channels (please be patient, this may take a while)\n"
          ]
        },
        {
          "name": "stderr",
          "output_type": "stream",
          "text": [
            "<ipython-input-31-c5939c7a778b>:35: RuntimeWarning: The data has not been high-pass filtered. For good ICA performance, it should be high-pass filtered (e.g., with a 1.0 Hz lower bound) before fitting ICA.\n",
            "  ica.fit(raw)\n"
          ]
        },
        {
          "name": "stdout",
          "output_type": "stream",
          "text": [
            "Selecting by number: 15 components\n",
            "Fitting ICA took 3.7s.\n",
            "Applying ICA to Raw instance\n",
            "    Transforming to ICA space (15 components)\n",
            "    Zeroing out 0 ICA components\n",
            "    Projecting back using 21 PCA components\n",
            "Effective window size : 4.096 (s)\n",
            "Extracting EDF parameters from /content/drive/MyDrive/eeg-during-mental-arithmetic-tasks-1.0.0/Subject01_2.edf...\n",
            "EDF file detected\n",
            "Setting channel info structure...\n",
            "Creating raw.info structure...\n",
            "Reading 0 ... 30999  =      0.000 ...    61.998 secs...\n",
            "Fitting ICA to data using 21 channels (please be patient, this may take a while)\n",
            "Selecting by number: 15 components\n"
          ]
        },
        {
          "name": "stderr",
          "output_type": "stream",
          "text": [
            "<ipython-input-31-c5939c7a778b>:35: RuntimeWarning: The data has not been high-pass filtered. For good ICA performance, it should be high-pass filtered (e.g., with a 1.0 Hz lower bound) before fitting ICA.\n",
            "  ica.fit(raw)\n"
          ]
        },
        {
          "name": "stdout",
          "output_type": "stream",
          "text": [
            "Fitting ICA took 2.4s.\n",
            "Applying ICA to Raw instance\n",
            "    Transforming to ICA space (15 components)\n",
            "    Zeroing out 0 ICA components\n",
            "    Projecting back using 21 PCA components\n",
            "Effective window size : 4.096 (s)\n",
            "Extracting EDF parameters from /content/drive/MyDrive/eeg-during-mental-arithmetic-tasks-1.0.0/Subject02_1.edf...\n",
            "EDF file detected\n",
            "Setting channel info structure...\n",
            "Creating raw.info structure...\n",
            "Reading 0 ... 90999  =      0.000 ...   181.998 secs...\n",
            "Fitting ICA to data using 21 channels (please be patient, this may take a while)\n"
          ]
        },
        {
          "name": "stderr",
          "output_type": "stream",
          "text": [
            "<ipython-input-31-c5939c7a778b>:35: RuntimeWarning: The data has not been high-pass filtered. For good ICA performance, it should be high-pass filtered (e.g., with a 1.0 Hz lower bound) before fitting ICA.\n",
            "  ica.fit(raw)\n"
          ]
        },
        {
          "name": "stdout",
          "output_type": "stream",
          "text": [
            "Selecting by number: 15 components\n",
            "Fitting ICA took 12.5s.\n",
            "Applying ICA to Raw instance\n",
            "    Transforming to ICA space (15 components)\n",
            "    Zeroing out 0 ICA components\n",
            "    Projecting back using 21 PCA components\n",
            "Effective window size : 4.096 (s)\n",
            "Extracting EDF parameters from /content/drive/MyDrive/eeg-during-mental-arithmetic-tasks-1.0.0/Subject02_2.edf...\n",
            "EDF file detected\n",
            "Setting channel info structure...\n",
            "Creating raw.info structure...\n",
            "Reading 0 ... 30999  =      0.000 ...    61.998 secs...\n",
            "Fitting ICA to data using 21 channels (please be patient, this may take a while)\n",
            "Selecting by number: 15 components\n"
          ]
        },
        {
          "name": "stderr",
          "output_type": "stream",
          "text": [
            "<ipython-input-31-c5939c7a778b>:35: RuntimeWarning: The data has not been high-pass filtered. For good ICA performance, it should be high-pass filtered (e.g., with a 1.0 Hz lower bound) before fitting ICA.\n",
            "  ica.fit(raw)\n"
          ]
        },
        {
          "name": "stdout",
          "output_type": "stream",
          "text": [
            "Fitting ICA took 8.4s.\n",
            "Applying ICA to Raw instance\n",
            "    Transforming to ICA space (15 components)\n",
            "    Zeroing out 0 ICA components\n",
            "    Projecting back using 21 PCA components\n",
            "Effective window size : 4.096 (s)\n",
            "Extracting EDF parameters from /content/drive/MyDrive/eeg-during-mental-arithmetic-tasks-1.0.0/Subject03_1.edf...\n",
            "EDF file detected\n",
            "Setting channel info structure...\n",
            "Creating raw.info structure...\n",
            "Reading 0 ... 90999  =      0.000 ...   181.998 secs...\n",
            "Fitting ICA to data using 21 channels (please be patient, this may take a while)\n",
            "Selecting by number: 15 components\n",
            "Fitting ICA took 8.7s.\n",
            "Applying ICA to Raw instance\n",
            "    Transforming to ICA space (15 components)\n",
            "    Zeroing out 0 ICA components\n",
            "    Projecting back using 21 PCA components\n",
            "Effective window size : 4.096 (s)\n",
            "Extracting EDF parameters from /content/drive/MyDrive/eeg-during-mental-arithmetic-tasks-1.0.0/Subject03_2.edf...\n",
            "EDF file detected\n",
            "Setting channel info structure...\n",
            "Creating raw.info structure...\n",
            "Reading 0 ... 30999  =      0.000 ...    61.998 secs...\n",
            "Fitting ICA to data using 21 channels (please be patient, this may take a while)\n",
            "Selecting by number: 15 components\n",
            "Fitting ICA took 5.4s.\n",
            "Applying ICA to Raw instance\n",
            "    Transforming to ICA space (15 components)\n",
            "    Zeroing out 0 ICA components\n",
            "    Projecting back using 21 PCA components\n",
            "Effective window size : 4.096 (s)\n",
            "Extracting EDF parameters from /content/drive/MyDrive/eeg-during-mental-arithmetic-tasks-1.0.0/Subject04_1.edf...\n",
            "EDF file detected\n",
            "Setting channel info structure...\n",
            "Creating raw.info structure...\n",
            "Reading 0 ... 84999  =      0.000 ...   169.998 secs...\n",
            "Fitting ICA to data using 21 channels (please be patient, this may take a while)\n"
          ]
        },
        {
          "name": "stderr",
          "output_type": "stream",
          "text": [
            "<ipython-input-31-c5939c7a778b>:35: RuntimeWarning: The data has not been high-pass filtered. For good ICA performance, it should be high-pass filtered (e.g., with a 1.0 Hz lower bound) before fitting ICA.\n",
            "  ica.fit(raw)\n"
          ]
        },
        {
          "name": "stdout",
          "output_type": "stream",
          "text": [
            "Selecting by number: 15 components\n",
            "Fitting ICA took 5.4s.\n",
            "Applying ICA to Raw instance\n",
            "    Transforming to ICA space (15 components)\n",
            "    Zeroing out 0 ICA components\n",
            "    Projecting back using 21 PCA components\n",
            "Effective window size : 4.096 (s)\n",
            "Extracting EDF parameters from /content/drive/MyDrive/eeg-during-mental-arithmetic-tasks-1.0.0/Subject04_2.edf...\n",
            "EDF file detected\n",
            "Setting channel info structure...\n",
            "Creating raw.info structure...\n",
            "Reading 0 ... 30999  =      0.000 ...    61.998 secs...\n",
            "Fitting ICA to data using 21 channels (please be patient, this may take a while)\n",
            "Selecting by number: 15 components\n"
          ]
        },
        {
          "name": "stderr",
          "output_type": "stream",
          "text": [
            "<ipython-input-31-c5939c7a778b>:35: RuntimeWarning: The data has not been high-pass filtered. For good ICA performance, it should be high-pass filtered (e.g., with a 1.0 Hz lower bound) before fitting ICA.\n",
            "  ica.fit(raw)\n"
          ]
        },
        {
          "name": "stdout",
          "output_type": "stream",
          "text": [
            "Fitting ICA took 2.8s.\n",
            "Applying ICA to Raw instance\n",
            "    Transforming to ICA space (15 components)\n",
            "    Zeroing out 0 ICA components\n",
            "    Projecting back using 21 PCA components\n",
            "Effective window size : 4.096 (s)\n",
            "Extracting EDF parameters from /content/drive/MyDrive/eeg-during-mental-arithmetic-tasks-1.0.0/Subject05_1.edf...\n",
            "EDF file detected\n",
            "Setting channel info structure...\n",
            "Creating raw.info structure...\n",
            "Reading 0 ... 90999  =      0.000 ...   181.998 secs...\n",
            "Fitting ICA to data using 21 channels (please be patient, this may take a while)\n",
            "Selecting by number: 15 components\n"
          ]
        },
        {
          "name": "stderr",
          "output_type": "stream",
          "text": [
            "<ipython-input-31-c5939c7a778b>:35: RuntimeWarning: The data has not been high-pass filtered. For good ICA performance, it should be high-pass filtered (e.g., with a 1.0 Hz lower bound) before fitting ICA.\n",
            "  ica.fit(raw)\n"
          ]
        },
        {
          "name": "stdout",
          "output_type": "stream",
          "text": [
            "Fitting ICA took 5.4s.\n",
            "Applying ICA to Raw instance\n",
            "    Transforming to ICA space (15 components)\n",
            "    Zeroing out 0 ICA components\n",
            "    Projecting back using 21 PCA components\n",
            "Effective window size : 4.096 (s)\n",
            "Extracting EDF parameters from /content/drive/MyDrive/eeg-during-mental-arithmetic-tasks-1.0.0/Subject05_2.edf...\n",
            "EDF file detected\n",
            "Setting channel info structure...\n",
            "Creating raw.info structure...\n",
            "Reading 0 ... 30999  =      0.000 ...    61.998 secs...\n",
            "Fitting ICA to data using 21 channels (please be patient, this may take a while)\n",
            "Selecting by number: 15 components\n"
          ]
        },
        {
          "name": "stderr",
          "output_type": "stream",
          "text": [
            "<ipython-input-31-c5939c7a778b>:35: RuntimeWarning: The data has not been high-pass filtered. For good ICA performance, it should be high-pass filtered (e.g., with a 1.0 Hz lower bound) before fitting ICA.\n",
            "  ica.fit(raw)\n"
          ]
        },
        {
          "name": "stdout",
          "output_type": "stream",
          "text": [
            "Fitting ICA took 5.3s.\n",
            "Applying ICA to Raw instance\n",
            "    Transforming to ICA space (15 components)\n",
            "    Zeroing out 0 ICA components\n",
            "    Projecting back using 21 PCA components\n",
            "Effective window size : 4.096 (s)\n",
            "Extracting EDF parameters from /content/drive/MyDrive/eeg-during-mental-arithmetic-tasks-1.0.0/Subject06_1.edf...\n",
            "EDF file detected\n",
            "Setting channel info structure...\n",
            "Creating raw.info structure...\n",
            "Reading 0 ... 90999  =      0.000 ...   181.998 secs...\n",
            "Fitting ICA to data using 21 channels (please be patient, this may take a while)\n",
            "Selecting by number: 15 components\n"
          ]
        },
        {
          "name": "stderr",
          "output_type": "stream",
          "text": [
            "<ipython-input-31-c5939c7a778b>:35: RuntimeWarning: The data has not been high-pass filtered. For good ICA performance, it should be high-pass filtered (e.g., with a 1.0 Hz lower bound) before fitting ICA.\n",
            "  ica.fit(raw)\n"
          ]
        },
        {
          "name": "stdout",
          "output_type": "stream",
          "text": [
            "Fitting ICA took 3.2s.\n",
            "Applying ICA to Raw instance\n",
            "    Transforming to ICA space (15 components)\n",
            "    Zeroing out 0 ICA components\n",
            "    Projecting back using 21 PCA components\n",
            "Effective window size : 4.096 (s)\n",
            "Extracting EDF parameters from /content/drive/MyDrive/eeg-during-mental-arithmetic-tasks-1.0.0/Subject06_2.edf...\n",
            "EDF file detected\n",
            "Setting channel info structure...\n",
            "Creating raw.info structure...\n",
            "Reading 0 ... 30999  =      0.000 ...    61.998 secs...\n",
            "Fitting ICA to data using 21 channels (please be patient, this may take a while)\n",
            "Selecting by number: 15 components\n"
          ]
        },
        {
          "name": "stderr",
          "output_type": "stream",
          "text": [
            "<ipython-input-31-c5939c7a778b>:35: RuntimeWarning: The data has not been high-pass filtered. For good ICA performance, it should be high-pass filtered (e.g., with a 1.0 Hz lower bound) before fitting ICA.\n",
            "  ica.fit(raw)\n"
          ]
        },
        {
          "name": "stdout",
          "output_type": "stream",
          "text": [
            "Fitting ICA took 72.1s.\n",
            "Applying ICA to Raw instance\n",
            "    Transforming to ICA space (15 components)\n",
            "    Zeroing out 0 ICA components\n",
            "    Projecting back using 21 PCA components\n",
            "Effective window size : 4.096 (s)\n"
          ]
        },
        {
          "name": "stderr",
          "output_type": "stream",
          "text": [
            "/usr/local/lib/python3.10/dist-packages/sklearn/decomposition/_fastica.py:128: ConvergenceWarning: FastICA did not converge. Consider increasing tolerance or the maximum number of iterations.\n",
            "  warnings.warn(\n"
          ]
        },
        {
          "name": "stdout",
          "output_type": "stream",
          "text": [
            "Extracting EDF parameters from /content/drive/MyDrive/eeg-during-mental-arithmetic-tasks-1.0.0/Subject07_1.edf...\n",
            "EDF file detected\n",
            "Setting channel info structure...\n",
            "Creating raw.info structure...\n",
            "Reading 0 ... 90999  =      0.000 ...   181.998 secs...\n",
            "Fitting ICA to data using 21 channels (please be patient, this may take a while)\n"
          ]
        },
        {
          "name": "stderr",
          "output_type": "stream",
          "text": [
            "<ipython-input-31-c5939c7a778b>:35: RuntimeWarning: The data has not been high-pass filtered. For good ICA performance, it should be high-pass filtered (e.g., with a 1.0 Hz lower bound) before fitting ICA.\n",
            "  ica.fit(raw)\n"
          ]
        },
        {
          "name": "stdout",
          "output_type": "stream",
          "text": [
            "Selecting by number: 15 components\n",
            "Fitting ICA took 5.9s.\n",
            "Applying ICA to Raw instance\n",
            "    Transforming to ICA space (15 components)\n",
            "    Zeroing out 0 ICA components\n",
            "    Projecting back using 21 PCA components\n",
            "Effective window size : 4.096 (s)\n",
            "Extracting EDF parameters from /content/drive/MyDrive/eeg-during-mental-arithmetic-tasks-1.0.0/Subject07_2.edf...\n",
            "EDF file detected\n",
            "Setting channel info structure...\n",
            "Creating raw.info structure...\n",
            "Reading 0 ... 30999  =      0.000 ...    61.998 secs...\n",
            "Fitting ICA to data using 21 channels (please be patient, this may take a while)\n",
            "Selecting by number: 15 components\n"
          ]
        },
        {
          "name": "stderr",
          "output_type": "stream",
          "text": [
            "<ipython-input-31-c5939c7a778b>:35: RuntimeWarning: The data has not been high-pass filtered. For good ICA performance, it should be high-pass filtered (e.g., with a 1.0 Hz lower bound) before fitting ICA.\n",
            "  ica.fit(raw)\n"
          ]
        },
        {
          "name": "stdout",
          "output_type": "stream",
          "text": [
            "Fitting ICA took 1.8s.\n",
            "Applying ICA to Raw instance\n",
            "    Transforming to ICA space (15 components)\n",
            "    Zeroing out 0 ICA components\n",
            "    Projecting back using 21 PCA components\n",
            "Effective window size : 4.096 (s)\n",
            "Extracting EDF parameters from /content/drive/MyDrive/eeg-during-mental-arithmetic-tasks-1.0.0/Subject08_1.edf...\n",
            "EDF file detected\n",
            "Setting channel info structure...\n",
            "Creating raw.info structure...\n",
            "Reading 0 ... 90999  =      0.000 ...   181.998 secs...\n",
            "Fitting ICA to data using 21 channels (please be patient, this may take a while)\n",
            "Selecting by number: 15 components\n"
          ]
        },
        {
          "name": "stderr",
          "output_type": "stream",
          "text": [
            "<ipython-input-31-c5939c7a778b>:35: RuntimeWarning: The data has not been high-pass filtered. For good ICA performance, it should be high-pass filtered (e.g., with a 1.0 Hz lower bound) before fitting ICA.\n",
            "  ica.fit(raw)\n"
          ]
        },
        {
          "name": "stdout",
          "output_type": "stream",
          "text": [
            "Fitting ICA took 11.5s.\n",
            "Applying ICA to Raw instance\n",
            "    Transforming to ICA space (15 components)\n",
            "    Zeroing out 0 ICA components\n",
            "    Projecting back using 21 PCA components\n",
            "Effective window size : 4.096 (s)\n",
            "Extracting EDF parameters from /content/drive/MyDrive/eeg-during-mental-arithmetic-tasks-1.0.0/Subject08_2.edf...\n",
            "EDF file detected\n",
            "Setting channel info structure...\n",
            "Creating raw.info structure...\n",
            "Reading 0 ... 30999  =      0.000 ...    61.998 secs...\n",
            "Fitting ICA to data using 21 channels (please be patient, this may take a while)\n",
            "Selecting by number: 15 components\n",
            "Fitting ICA took 2.1s.\n",
            "Applying ICA to Raw instance\n",
            "    Transforming to ICA space (15 components)\n",
            "    Zeroing out 0 ICA components\n",
            "    Projecting back using 21 PCA components\n",
            "Effective window size : 4.096 (s)\n",
            "Extracting EDF parameters from /content/drive/MyDrive/eeg-during-mental-arithmetic-tasks-1.0.0/Subject09_1.edf...\n",
            "EDF file detected\n",
            "Setting channel info structure...\n",
            "Creating raw.info structure...\n",
            "Reading 0 ... 90999  =      0.000 ...   181.998 secs...\n",
            "Fitting ICA to data using 21 channels (please be patient, this may take a while)\n",
            "Selecting by number: 15 components\n"
          ]
        },
        {
          "name": "stderr",
          "output_type": "stream",
          "text": [
            "<ipython-input-31-c5939c7a778b>:35: RuntimeWarning: The data has not been high-pass filtered. For good ICA performance, it should be high-pass filtered (e.g., with a 1.0 Hz lower bound) before fitting ICA.\n",
            "  ica.fit(raw)\n"
          ]
        },
        {
          "name": "stdout",
          "output_type": "stream",
          "text": [
            "Fitting ICA took 3.4s.\n",
            "Applying ICA to Raw instance\n",
            "    Transforming to ICA space (15 components)\n",
            "    Zeroing out 0 ICA components\n",
            "    Projecting back using 21 PCA components\n",
            "Effective window size : 4.096 (s)\n",
            "Extracting EDF parameters from /content/drive/MyDrive/eeg-during-mental-arithmetic-tasks-1.0.0/Subject09_2.edf...\n",
            "EDF file detected\n",
            "Setting channel info structure...\n",
            "Creating raw.info structure...\n",
            "Reading 0 ... 30999  =      0.000 ...    61.998 secs...\n",
            "Fitting ICA to data using 21 channels (please be patient, this may take a while)\n",
            "Selecting by number: 15 components\n"
          ]
        },
        {
          "name": "stderr",
          "output_type": "stream",
          "text": [
            "<ipython-input-31-c5939c7a778b>:35: RuntimeWarning: The data has not been high-pass filtered. For good ICA performance, it should be high-pass filtered (e.g., with a 1.0 Hz lower bound) before fitting ICA.\n",
            "  ica.fit(raw)\n"
          ]
        },
        {
          "name": "stdout",
          "output_type": "stream",
          "text": [
            "Fitting ICA took 3.3s.\n",
            "Applying ICA to Raw instance\n",
            "    Transforming to ICA space (15 components)\n",
            "    Zeroing out 0 ICA components\n",
            "    Projecting back using 21 PCA components\n",
            "Effective window size : 4.096 (s)\n",
            "Extracting EDF parameters from /content/drive/MyDrive/eeg-during-mental-arithmetic-tasks-1.0.0/Subject10_1.edf...\n",
            "EDF file detected\n",
            "Setting channel info structure...\n",
            "Creating raw.info structure...\n",
            "Reading 0 ... 93999  =      0.000 ...   187.998 secs...\n",
            "Fitting ICA to data using 21 channels (please be patient, this may take a while)\n"
          ]
        },
        {
          "name": "stderr",
          "output_type": "stream",
          "text": [
            "<ipython-input-31-c5939c7a778b>:35: RuntimeWarning: The data has not been high-pass filtered. For good ICA performance, it should be high-pass filtered (e.g., with a 1.0 Hz lower bound) before fitting ICA.\n",
            "  ica.fit(raw)\n"
          ]
        },
        {
          "name": "stdout",
          "output_type": "stream",
          "text": [
            "Selecting by number: 15 components\n",
            "Fitting ICA took 5.6s.\n",
            "Applying ICA to Raw instance\n",
            "    Transforming to ICA space (15 components)\n",
            "    Zeroing out 0 ICA components\n",
            "    Projecting back using 21 PCA components\n",
            "Effective window size : 4.096 (s)\n",
            "Extracting EDF parameters from /content/drive/MyDrive/eeg-during-mental-arithmetic-tasks-1.0.0/Subject10_2.edf...\n",
            "EDF file detected\n",
            "Setting channel info structure...\n",
            "Creating raw.info structure...\n",
            "Reading 0 ... 30999  =      0.000 ...    61.998 secs...\n",
            "Fitting ICA to data using 21 channels (please be patient, this may take a while)\n",
            "Selecting by number: 15 components\n",
            "Fitting ICA took 2.8s.\n",
            "Applying ICA to Raw instance\n",
            "    Transforming to ICA space (15 components)\n",
            "    Zeroing out 0 ICA components\n",
            "    Projecting back using 21 PCA components\n",
            "Effective window size : 4.096 (s)\n",
            "Extracting EDF parameters from /content/drive/MyDrive/eeg-during-mental-arithmetic-tasks-1.0.0/Subject11_1.edf...\n",
            "EDF file detected\n",
            "Setting channel info structure...\n",
            "Creating raw.info structure...\n",
            "Reading 0 ... 90999  =      0.000 ...   181.998 secs...\n",
            "Fitting ICA to data using 21 channels (please be patient, this may take a while)\n",
            "Selecting by number: 15 components\n",
            "Fitting ICA took 9.2s.\n",
            "Applying ICA to Raw instance\n",
            "    Transforming to ICA space (15 components)\n",
            "    Zeroing out 0 ICA components\n",
            "    Projecting back using 21 PCA components\n",
            "Effective window size : 4.096 (s)\n",
            "Extracting EDF parameters from /content/drive/MyDrive/eeg-during-mental-arithmetic-tasks-1.0.0/Subject11_2.edf...\n",
            "EDF file detected\n",
            "Setting channel info structure...\n",
            "Creating raw.info structure...\n",
            "Reading 0 ... 30999  =      0.000 ...    61.998 secs...\n",
            "Fitting ICA to data using 21 channels (please be patient, this may take a while)\n",
            "Selecting by number: 15 components\n"
          ]
        },
        {
          "name": "stderr",
          "output_type": "stream",
          "text": [
            "<ipython-input-31-c5939c7a778b>:35: RuntimeWarning: The data has not been high-pass filtered. For good ICA performance, it should be high-pass filtered (e.g., with a 1.0 Hz lower bound) before fitting ICA.\n",
            "  ica.fit(raw)\n"
          ]
        },
        {
          "name": "stdout",
          "output_type": "stream",
          "text": [
            "Fitting ICA took 1.5s.\n",
            "Applying ICA to Raw instance\n",
            "    Transforming to ICA space (15 components)\n",
            "    Zeroing out 0 ICA components\n",
            "    Projecting back using 21 PCA components\n",
            "Effective window size : 4.096 (s)\n",
            "Extracting EDF parameters from /content/drive/MyDrive/eeg-during-mental-arithmetic-tasks-1.0.0/Subject12_1.edf...\n",
            "EDF file detected\n",
            "Setting channel info structure...\n",
            "Creating raw.info structure...\n",
            "Reading 0 ... 90999  =      0.000 ...   181.998 secs...\n",
            "Fitting ICA to data using 21 channels (please be patient, this may take a while)\n",
            "Selecting by number: 15 components\n"
          ]
        },
        {
          "name": "stderr",
          "output_type": "stream",
          "text": [
            "<ipython-input-31-c5939c7a778b>:35: RuntimeWarning: The data has not been high-pass filtered. For good ICA performance, it should be high-pass filtered (e.g., with a 1.0 Hz lower bound) before fitting ICA.\n",
            "  ica.fit(raw)\n"
          ]
        },
        {
          "name": "stdout",
          "output_type": "stream",
          "text": [
            "Fitting ICA took 4.6s.\n",
            "Applying ICA to Raw instance\n",
            "    Transforming to ICA space (15 components)\n",
            "    Zeroing out 0 ICA components\n",
            "    Projecting back using 21 PCA components\n",
            "Effective window size : 4.096 (s)\n",
            "Extracting EDF parameters from /content/drive/MyDrive/eeg-during-mental-arithmetic-tasks-1.0.0/Subject12_2.edf...\n",
            "EDF file detected\n",
            "Setting channel info structure...\n",
            "Creating raw.info structure...\n",
            "Reading 0 ... 30999  =      0.000 ...    61.998 secs...\n",
            "Fitting ICA to data using 21 channels (please be patient, this may take a while)\n",
            "Selecting by number: 15 components\n"
          ]
        },
        {
          "name": "stderr",
          "output_type": "stream",
          "text": [
            "<ipython-input-31-c5939c7a778b>:35: RuntimeWarning: The data has not been high-pass filtered. For good ICA performance, it should be high-pass filtered (e.g., with a 1.0 Hz lower bound) before fitting ICA.\n",
            "  ica.fit(raw)\n"
          ]
        },
        {
          "name": "stdout",
          "output_type": "stream",
          "text": [
            "Fitting ICA took 3.2s.\n",
            "Applying ICA to Raw instance\n",
            "    Transforming to ICA space (15 components)\n",
            "    Zeroing out 0 ICA components\n",
            "    Projecting back using 21 PCA components\n",
            "Effective window size : 4.096 (s)\n",
            "Extracting EDF parameters from /content/drive/MyDrive/eeg-during-mental-arithmetic-tasks-1.0.0/Subject13_1.edf...\n",
            "EDF file detected\n",
            "Setting channel info structure...\n",
            "Creating raw.info structure...\n",
            "Reading 0 ... 90999  =      0.000 ...   181.998 secs...\n",
            "Fitting ICA to data using 21 channels (please be patient, this may take a while)\n",
            "Selecting by number: 15 components\n"
          ]
        },
        {
          "name": "stderr",
          "output_type": "stream",
          "text": [
            "<ipython-input-31-c5939c7a778b>:35: RuntimeWarning: The data has not been high-pass filtered. For good ICA performance, it should be high-pass filtered (e.g., with a 1.0 Hz lower bound) before fitting ICA.\n",
            "  ica.fit(raw)\n"
          ]
        },
        {
          "name": "stdout",
          "output_type": "stream",
          "text": [
            "Fitting ICA took 7.7s.\n",
            "Applying ICA to Raw instance\n",
            "    Transforming to ICA space (15 components)\n",
            "    Zeroing out 0 ICA components\n",
            "    Projecting back using 21 PCA components\n",
            "Effective window size : 4.096 (s)\n",
            "Extracting EDF parameters from /content/drive/MyDrive/eeg-during-mental-arithmetic-tasks-1.0.0/Subject13_2.edf...\n",
            "EDF file detected\n",
            "Setting channel info structure...\n",
            "Creating raw.info structure...\n",
            "Reading 0 ... 30999  =      0.000 ...    61.998 secs...\n",
            "Fitting ICA to data using 21 channels (please be patient, this may take a while)\n",
            "Selecting by number: 15 components\n",
            "Fitting ICA took 3.4s.\n",
            "Applying ICA to Raw instance\n",
            "    Transforming to ICA space (15 components)\n",
            "    Zeroing out 0 ICA components\n",
            "    Projecting back using 21 PCA components\n",
            "Effective window size : 4.096 (s)\n",
            "Extracting EDF parameters from /content/drive/MyDrive/eeg-during-mental-arithmetic-tasks-1.0.0/Subject14_1.edf...\n",
            "EDF file detected\n",
            "Setting channel info structure...\n",
            "Creating raw.info structure...\n",
            "Reading 0 ... 90999  =      0.000 ...   181.998 secs...\n",
            "Fitting ICA to data using 21 channels (please be patient, this may take a while)\n",
            "Selecting by number: 15 components\n"
          ]
        },
        {
          "name": "stderr",
          "output_type": "stream",
          "text": [
            "<ipython-input-31-c5939c7a778b>:35: RuntimeWarning: The data has not been high-pass filtered. For good ICA performance, it should be high-pass filtered (e.g., with a 1.0 Hz lower bound) before fitting ICA.\n",
            "  ica.fit(raw)\n"
          ]
        },
        {
          "name": "stdout",
          "output_type": "stream",
          "text": [
            "Fitting ICA took 4.7s.\n",
            "Applying ICA to Raw instance\n",
            "    Transforming to ICA space (15 components)\n",
            "    Zeroing out 0 ICA components\n",
            "    Projecting back using 21 PCA components\n",
            "Effective window size : 4.096 (s)\n",
            "Extracting EDF parameters from /content/drive/MyDrive/eeg-during-mental-arithmetic-tasks-1.0.0/Subject14_2.edf...\n",
            "EDF file detected\n",
            "Setting channel info structure...\n",
            "Creating raw.info structure...\n",
            "Reading 0 ... 30999  =      0.000 ...    61.998 secs...\n",
            "Fitting ICA to data using 21 channels (please be patient, this may take a while)\n",
            "Selecting by number: 15 components\n"
          ]
        },
        {
          "name": "stderr",
          "output_type": "stream",
          "text": [
            "<ipython-input-31-c5939c7a778b>:35: RuntimeWarning: The data has not been high-pass filtered. For good ICA performance, it should be high-pass filtered (e.g., with a 1.0 Hz lower bound) before fitting ICA.\n",
            "  ica.fit(raw)\n"
          ]
        },
        {
          "name": "stdout",
          "output_type": "stream",
          "text": [
            "Fitting ICA took 2.5s.\n",
            "Applying ICA to Raw instance\n",
            "    Transforming to ICA space (15 components)\n",
            "    Zeroing out 0 ICA components\n",
            "    Projecting back using 21 PCA components\n",
            "Effective window size : 4.096 (s)\n",
            "Extracting EDF parameters from /content/drive/MyDrive/eeg-during-mental-arithmetic-tasks-1.0.0/Subject15_1.edf...\n",
            "EDF file detected\n",
            "Setting channel info structure...\n",
            "Creating raw.info structure...\n",
            "Reading 0 ... 90999  =      0.000 ...   181.998 secs...\n",
            "Fitting ICA to data using 21 channels (please be patient, this may take a while)\n"
          ]
        },
        {
          "name": "stderr",
          "output_type": "stream",
          "text": [
            "<ipython-input-31-c5939c7a778b>:35: RuntimeWarning: The data has not been high-pass filtered. For good ICA performance, it should be high-pass filtered (e.g., with a 1.0 Hz lower bound) before fitting ICA.\n",
            "  ica.fit(raw)\n"
          ]
        },
        {
          "name": "stdout",
          "output_type": "stream",
          "text": [
            "Selecting by number: 15 components\n",
            "Fitting ICA took 3.9s.\n",
            "Applying ICA to Raw instance\n",
            "    Transforming to ICA space (15 components)\n",
            "    Zeroing out 0 ICA components\n",
            "    Projecting back using 21 PCA components\n",
            "Effective window size : 4.096 (s)\n",
            "Extracting EDF parameters from /content/drive/MyDrive/eeg-during-mental-arithmetic-tasks-1.0.0/Subject15_2.edf...\n",
            "EDF file detected\n",
            "Setting channel info structure...\n",
            "Creating raw.info structure...\n",
            "Reading 0 ... 30999  =      0.000 ...    61.998 secs...\n",
            "Fitting ICA to data using 21 channels (please be patient, this may take a while)\n",
            "Selecting by number: 15 components\n"
          ]
        },
        {
          "name": "stderr",
          "output_type": "stream",
          "text": [
            "<ipython-input-31-c5939c7a778b>:35: RuntimeWarning: The data has not been high-pass filtered. For good ICA performance, it should be high-pass filtered (e.g., with a 1.0 Hz lower bound) before fitting ICA.\n",
            "  ica.fit(raw)\n"
          ]
        },
        {
          "name": "stdout",
          "output_type": "stream",
          "text": [
            "Fitting ICA took 3.3s.\n",
            "Applying ICA to Raw instance\n",
            "    Transforming to ICA space (15 components)\n",
            "    Zeroing out 0 ICA components\n",
            "    Projecting back using 21 PCA components\n",
            "Effective window size : 4.096 (s)\n",
            "Extracting EDF parameters from /content/drive/MyDrive/eeg-during-mental-arithmetic-tasks-1.0.0/Subject16_1.edf...\n",
            "EDF file detected\n",
            "Setting channel info structure...\n",
            "Creating raw.info structure...\n",
            "Reading 0 ... 90999  =      0.000 ...   181.998 secs...\n",
            "Fitting ICA to data using 21 channels (please be patient, this may take a while)\n",
            "Selecting by number: 15 components\n",
            "Fitting ICA took 3.0s.\n",
            "Applying ICA to Raw instance\n",
            "    Transforming to ICA space (15 components)\n",
            "    Zeroing out 0 ICA components\n",
            "    Projecting back using 21 PCA components\n",
            "Effective window size : 4.096 (s)\n",
            "Extracting EDF parameters from /content/drive/MyDrive/eeg-during-mental-arithmetic-tasks-1.0.0/Subject16_2.edf...\n",
            "EDF file detected\n",
            "Setting channel info structure...\n",
            "Creating raw.info structure...\n",
            "Reading 0 ... 30999  =      0.000 ...    61.998 secs...\n",
            "Fitting ICA to data using 21 channels (please be patient, this may take a while)\n",
            "Selecting by number: 15 components\n"
          ]
        },
        {
          "name": "stderr",
          "output_type": "stream",
          "text": [
            "<ipython-input-31-c5939c7a778b>:35: RuntimeWarning: The data has not been high-pass filtered. For good ICA performance, it should be high-pass filtered (e.g., with a 1.0 Hz lower bound) before fitting ICA.\n",
            "  ica.fit(raw)\n"
          ]
        },
        {
          "name": "stdout",
          "output_type": "stream",
          "text": [
            "Fitting ICA took 3.7s.\n",
            "Applying ICA to Raw instance\n",
            "    Transforming to ICA space (15 components)\n",
            "    Zeroing out 0 ICA components\n",
            "    Projecting back using 21 PCA components\n",
            "Effective window size : 4.096 (s)\n",
            "Extracting EDF parameters from /content/drive/MyDrive/eeg-during-mental-arithmetic-tasks-1.0.0/Subject17_1.edf...\n",
            "EDF file detected\n",
            "Setting channel info structure...\n",
            "Creating raw.info structure...\n",
            "Reading 0 ... 90999  =      0.000 ...   181.998 secs...\n",
            "Fitting ICA to data using 21 channels (please be patient, this may take a while)\n"
          ]
        },
        {
          "name": "stderr",
          "output_type": "stream",
          "text": [
            "<ipython-input-31-c5939c7a778b>:35: RuntimeWarning: The data has not been high-pass filtered. For good ICA performance, it should be high-pass filtered (e.g., with a 1.0 Hz lower bound) before fitting ICA.\n",
            "  ica.fit(raw)\n"
          ]
        },
        {
          "name": "stdout",
          "output_type": "stream",
          "text": [
            "Selecting by number: 15 components\n",
            "Fitting ICA took 6.2s.\n",
            "Applying ICA to Raw instance\n",
            "    Transforming to ICA space (15 components)\n",
            "    Zeroing out 0 ICA components\n",
            "    Projecting back using 21 PCA components\n",
            "Effective window size : 4.096 (s)\n",
            "Extracting EDF parameters from /content/drive/MyDrive/eeg-during-mental-arithmetic-tasks-1.0.0/Subject17_2.edf...\n",
            "EDF file detected\n",
            "Setting channel info structure...\n",
            "Creating raw.info structure...\n",
            "Reading 0 ... 30999  =      0.000 ...    61.998 secs...\n",
            "Fitting ICA to data using 21 channels (please be patient, this may take a while)\n",
            "Selecting by number: 15 components\n",
            "Fitting ICA took 3.6s.\n",
            "Applying ICA to Raw instance\n",
            "    Transforming to ICA space (15 components)\n",
            "    Zeroing out 0 ICA components\n",
            "    Projecting back using 21 PCA components\n",
            "Effective window size : 4.096 (s)\n",
            "Extracting EDF parameters from /content/drive/MyDrive/eeg-during-mental-arithmetic-tasks-1.0.0/Subject18_1.edf...\n",
            "EDF file detected\n",
            "Setting channel info structure...\n",
            "Creating raw.info structure...\n",
            "Reading 0 ... 90999  =      0.000 ...   181.998 secs...\n",
            "Fitting ICA to data using 21 channels (please be patient, this may take a while)\n",
            "Selecting by number: 15 components\n"
          ]
        },
        {
          "name": "stderr",
          "output_type": "stream",
          "text": [
            "<ipython-input-31-c5939c7a778b>:35: RuntimeWarning: The data has not been high-pass filtered. For good ICA performance, it should be high-pass filtered (e.g., with a 1.0 Hz lower bound) before fitting ICA.\n",
            "  ica.fit(raw)\n"
          ]
        },
        {
          "name": "stdout",
          "output_type": "stream",
          "text": [
            "Fitting ICA took 4.1s.\n",
            "Applying ICA to Raw instance\n",
            "    Transforming to ICA space (15 components)\n",
            "    Zeroing out 0 ICA components\n",
            "    Projecting back using 21 PCA components\n",
            "Effective window size : 4.096 (s)\n",
            "Extracting EDF parameters from /content/drive/MyDrive/eeg-during-mental-arithmetic-tasks-1.0.0/Subject18_2.edf...\n",
            "EDF file detected\n",
            "Setting channel info structure...\n",
            "Creating raw.info structure...\n",
            "Reading 0 ... 30999  =      0.000 ...    61.998 secs...\n",
            "Fitting ICA to data using 21 channels (please be patient, this may take a while)\n",
            "Selecting by number: 15 components\n"
          ]
        },
        {
          "name": "stderr",
          "output_type": "stream",
          "text": [
            "<ipython-input-31-c5939c7a778b>:35: RuntimeWarning: The data has not been high-pass filtered. For good ICA performance, it should be high-pass filtered (e.g., with a 1.0 Hz lower bound) before fitting ICA.\n",
            "  ica.fit(raw)\n"
          ]
        },
        {
          "name": "stdout",
          "output_type": "stream",
          "text": [
            "Fitting ICA took 3.1s.\n",
            "Applying ICA to Raw instance\n",
            "    Transforming to ICA space (15 components)\n",
            "    Zeroing out 0 ICA components\n",
            "    Projecting back using 21 PCA components\n",
            "Effective window size : 4.096 (s)\n",
            "Extracting EDF parameters from /content/drive/MyDrive/eeg-during-mental-arithmetic-tasks-1.0.0/Subject19_1.edf...\n",
            "EDF file detected\n",
            "Setting channel info structure...\n",
            "Creating raw.info structure...\n",
            "Reading 0 ... 90999  =      0.000 ...   181.998 secs...\n",
            "Fitting ICA to data using 21 channels (please be patient, this may take a while)\n"
          ]
        },
        {
          "name": "stderr",
          "output_type": "stream",
          "text": [
            "<ipython-input-31-c5939c7a778b>:35: RuntimeWarning: The data has not been high-pass filtered. For good ICA performance, it should be high-pass filtered (e.g., with a 1.0 Hz lower bound) before fitting ICA.\n",
            "  ica.fit(raw)\n"
          ]
        },
        {
          "name": "stdout",
          "output_type": "stream",
          "text": [
            "Selecting by number: 15 components\n",
            "Fitting ICA took 6.5s.\n",
            "Applying ICA to Raw instance\n",
            "    Transforming to ICA space (15 components)\n",
            "    Zeroing out 0 ICA components\n",
            "    Projecting back using 21 PCA components\n",
            "Effective window size : 4.096 (s)\n",
            "Extracting EDF parameters from /content/drive/MyDrive/eeg-during-mental-arithmetic-tasks-1.0.0/Subject19_2.edf...\n",
            "EDF file detected\n",
            "Setting channel info structure...\n",
            "Creating raw.info structure...\n",
            "Reading 0 ... 30999  =      0.000 ...    61.998 secs...\n",
            "Fitting ICA to data using 21 channels (please be patient, this may take a while)\n",
            "Selecting by number: 15 components\n"
          ]
        },
        {
          "name": "stderr",
          "output_type": "stream",
          "text": [
            "<ipython-input-31-c5939c7a778b>:35: RuntimeWarning: The data has not been high-pass filtered. For good ICA performance, it should be high-pass filtered (e.g., with a 1.0 Hz lower bound) before fitting ICA.\n",
            "  ica.fit(raw)\n"
          ]
        },
        {
          "name": "stdout",
          "output_type": "stream",
          "text": [
            "Fitting ICA took 4.0s.\n",
            "Applying ICA to Raw instance\n",
            "    Transforming to ICA space (15 components)\n",
            "    Zeroing out 0 ICA components\n",
            "    Projecting back using 21 PCA components\n",
            "Effective window size : 4.096 (s)\n",
            "Extracting EDF parameters from /content/drive/MyDrive/eeg-during-mental-arithmetic-tasks-1.0.0/Subject20_1.edf...\n",
            "EDF file detected\n",
            "Setting channel info structure...\n",
            "Creating raw.info structure...\n",
            "Reading 0 ... 90999  =      0.000 ...   181.998 secs...\n",
            "Fitting ICA to data using 21 channels (please be patient, this may take a while)\n",
            "Selecting by number: 15 components\n"
          ]
        },
        {
          "name": "stderr",
          "output_type": "stream",
          "text": [
            "<ipython-input-31-c5939c7a778b>:35: RuntimeWarning: The data has not been high-pass filtered. For good ICA performance, it should be high-pass filtered (e.g., with a 1.0 Hz lower bound) before fitting ICA.\n",
            "  ica.fit(raw)\n"
          ]
        },
        {
          "name": "stdout",
          "output_type": "stream",
          "text": [
            "Fitting ICA took 9.5s.\n",
            "Applying ICA to Raw instance\n",
            "    Transforming to ICA space (15 components)\n",
            "    Zeroing out 0 ICA components\n",
            "    Projecting back using 21 PCA components\n",
            "Effective window size : 4.096 (s)\n",
            "Extracting EDF parameters from /content/drive/MyDrive/eeg-during-mental-arithmetic-tasks-1.0.0/Subject20_2.edf...\n",
            "EDF file detected\n",
            "Setting channel info structure...\n",
            "Creating raw.info structure...\n",
            "Reading 0 ... 30999  =      0.000 ...    61.998 secs...\n",
            "Fitting ICA to data using 21 channels (please be patient, this may take a while)\n",
            "Selecting by number: 15 components\n"
          ]
        },
        {
          "name": "stderr",
          "output_type": "stream",
          "text": [
            "<ipython-input-31-c5939c7a778b>:35: RuntimeWarning: The data has not been high-pass filtered. For good ICA performance, it should be high-pass filtered (e.g., with a 1.0 Hz lower bound) before fitting ICA.\n",
            "  ica.fit(raw)\n"
          ]
        },
        {
          "name": "stdout",
          "output_type": "stream",
          "text": [
            "Fitting ICA took 1.9s.\n",
            "Applying ICA to Raw instance\n",
            "    Transforming to ICA space (15 components)\n",
            "    Zeroing out 0 ICA components\n",
            "    Projecting back using 21 PCA components\n",
            "Effective window size : 4.096 (s)\n",
            "Extracting EDF parameters from /content/drive/MyDrive/eeg-during-mental-arithmetic-tasks-1.0.0/Subject21_1.edf...\n",
            "EDF file detected\n",
            "Setting channel info structure...\n",
            "Creating raw.info structure...\n",
            "Reading 0 ... 90999  =      0.000 ...   181.998 secs...\n",
            "Fitting ICA to data using 21 channels (please be patient, this may take a while)\n",
            "Selecting by number: 15 components\n",
            "Fitting ICA took 4.1s.\n",
            "Applying ICA to Raw instance\n",
            "    Transforming to ICA space (15 components)\n",
            "    Zeroing out 0 ICA components\n",
            "    Projecting back using 21 PCA components\n",
            "Effective window size : 4.096 (s)\n",
            "Extracting EDF parameters from /content/drive/MyDrive/eeg-during-mental-arithmetic-tasks-1.0.0/Subject21_2.edf...\n",
            "EDF file detected\n",
            "Setting channel info structure...\n",
            "Creating raw.info structure...\n",
            "Reading 0 ... 30999  =      0.000 ...    61.998 secs...\n",
            "Fitting ICA to data using 21 channels (please be patient, this may take a while)\n",
            "Selecting by number: 15 components\n",
            "Fitting ICA took 2.1s.\n",
            "Applying ICA to Raw instance\n",
            "    Transforming to ICA space (15 components)\n",
            "    Zeroing out 0 ICA components\n",
            "    Projecting back using 21 PCA components\n",
            "Effective window size : 4.096 (s)\n",
            "Extracting EDF parameters from /content/drive/MyDrive/eeg-during-mental-arithmetic-tasks-1.0.0/Subject22_1.edf...\n",
            "EDF file detected\n",
            "Setting channel info structure...\n",
            "Creating raw.info structure...\n",
            "Reading 0 ... 90999  =      0.000 ...   181.998 secs...\n",
            "Fitting ICA to data using 21 channels (please be patient, this may take a while)\n"
          ]
        },
        {
          "name": "stderr",
          "output_type": "stream",
          "text": [
            "<ipython-input-31-c5939c7a778b>:35: RuntimeWarning: The data has not been high-pass filtered. For good ICA performance, it should be high-pass filtered (e.g., with a 1.0 Hz lower bound) before fitting ICA.\n",
            "  ica.fit(raw)\n"
          ]
        },
        {
          "name": "stdout",
          "output_type": "stream",
          "text": [
            "Selecting by number: 15 components\n",
            "Fitting ICA took 6.5s.\n",
            "Applying ICA to Raw instance\n",
            "    Transforming to ICA space (15 components)\n",
            "    Zeroing out 0 ICA components\n",
            "    Projecting back using 21 PCA components\n",
            "Effective window size : 4.096 (s)\n",
            "Extracting EDF parameters from /content/drive/MyDrive/eeg-during-mental-arithmetic-tasks-1.0.0/Subject22_2.edf...\n",
            "EDF file detected\n",
            "Setting channel info structure...\n",
            "Creating raw.info structure...\n",
            "Reading 0 ... 30999  =      0.000 ...    61.998 secs...\n",
            "Fitting ICA to data using 21 channels (please be patient, this may take a while)\n",
            "Selecting by number: 15 components\n",
            "Fitting ICA took 1.7s.\n",
            "Applying ICA to Raw instance\n",
            "    Transforming to ICA space (15 components)\n",
            "    Zeroing out 0 ICA components\n",
            "    Projecting back using 21 PCA components\n",
            "Effective window size : 4.096 (s)\n",
            "Extracting EDF parameters from /content/drive/MyDrive/eeg-during-mental-arithmetic-tasks-1.0.0/Subject23_1.edf...\n",
            "EDF file detected\n",
            "Setting channel info structure...\n",
            "Creating raw.info structure...\n",
            "Reading 0 ... 90999  =      0.000 ...   181.998 secs...\n",
            "Fitting ICA to data using 21 channels (please be patient, this may take a while)\n",
            "Selecting by number: 15 components\n",
            "Fitting ICA took 5.9s.\n",
            "Applying ICA to Raw instance\n",
            "    Transforming to ICA space (15 components)\n",
            "    Zeroing out 0 ICA components\n",
            "    Projecting back using 21 PCA components\n",
            "Effective window size : 4.096 (s)\n",
            "Extracting EDF parameters from /content/drive/MyDrive/eeg-during-mental-arithmetic-tasks-1.0.0/Subject23_2.edf...\n",
            "EDF file detected\n",
            "Setting channel info structure...\n",
            "Creating raw.info structure...\n",
            "Reading 0 ... 30999  =      0.000 ...    61.998 secs...\n",
            "Fitting ICA to data using 21 channels (please be patient, this may take a while)\n",
            "Selecting by number: 15 components\n",
            "Fitting ICA took 3.8s.\n",
            "Applying ICA to Raw instance\n",
            "    Transforming to ICA space (15 components)\n",
            "    Zeroing out 0 ICA components\n",
            "    Projecting back using 21 PCA components\n",
            "Effective window size : 4.096 (s)\n",
            "Extracting EDF parameters from /content/drive/MyDrive/eeg-during-mental-arithmetic-tasks-1.0.0/Subject24_1.edf...\n",
            "EDF file detected\n",
            "Setting channel info structure...\n",
            "Creating raw.info structure...\n",
            "Reading 0 ... 90999  =      0.000 ...   181.998 secs...\n",
            "Fitting ICA to data using 21 channels (please be patient, this may take a while)\n"
          ]
        },
        {
          "name": "stderr",
          "output_type": "stream",
          "text": [
            "<ipython-input-31-c5939c7a778b>:35: RuntimeWarning: The data has not been high-pass filtered. For good ICA performance, it should be high-pass filtered (e.g., with a 1.0 Hz lower bound) before fitting ICA.\n",
            "  ica.fit(raw)\n"
          ]
        },
        {
          "name": "stdout",
          "output_type": "stream",
          "text": [
            "Selecting by number: 15 components\n",
            "Fitting ICA took 4.0s.\n",
            "Applying ICA to Raw instance\n",
            "    Transforming to ICA space (15 components)\n",
            "    Zeroing out 0 ICA components\n",
            "    Projecting back using 21 PCA components\n",
            "Effective window size : 4.096 (s)\n",
            "Extracting EDF parameters from /content/drive/MyDrive/eeg-during-mental-arithmetic-tasks-1.0.0/Subject24_2.edf...\n",
            "EDF file detected\n",
            "Setting channel info structure...\n",
            "Creating raw.info structure...\n",
            "Reading 0 ... 30999  =      0.000 ...    61.998 secs...\n",
            "Fitting ICA to data using 21 channels (please be patient, this may take a while)\n",
            "Selecting by number: 15 components\n"
          ]
        },
        {
          "name": "stderr",
          "output_type": "stream",
          "text": [
            "<ipython-input-31-c5939c7a778b>:35: RuntimeWarning: The data has not been high-pass filtered. For good ICA performance, it should be high-pass filtered (e.g., with a 1.0 Hz lower bound) before fitting ICA.\n",
            "  ica.fit(raw)\n"
          ]
        },
        {
          "name": "stdout",
          "output_type": "stream",
          "text": [
            "Fitting ICA took 2.3s.\n",
            "Applying ICA to Raw instance\n",
            "    Transforming to ICA space (15 components)\n",
            "    Zeroing out 0 ICA components\n",
            "    Projecting back using 21 PCA components\n",
            "Effective window size : 4.096 (s)\n",
            "Extracting EDF parameters from /content/drive/MyDrive/eeg-during-mental-arithmetic-tasks-1.0.0/Subject25_1.edf...\n",
            "EDF file detected\n",
            "Setting channel info structure...\n",
            "Creating raw.info structure...\n",
            "Reading 0 ... 90999  =      0.000 ...   181.998 secs...\n",
            "Fitting ICA to data using 21 channels (please be patient, this may take a while)\n",
            "Selecting by number: 15 components\n",
            "Fitting ICA took 8.9s.\n",
            "Applying ICA to Raw instance\n",
            "    Transforming to ICA space (15 components)\n",
            "    Zeroing out 0 ICA components\n",
            "    Projecting back using 21 PCA components\n",
            "Effective window size : 4.096 (s)\n",
            "Extracting EDF parameters from /content/drive/MyDrive/eeg-during-mental-arithmetic-tasks-1.0.0/Subject25_2.edf...\n",
            "EDF file detected\n",
            "Setting channel info structure...\n",
            "Creating raw.info structure...\n",
            "Reading 0 ... 30999  =      0.000 ...    61.998 secs...\n",
            "Fitting ICA to data using 21 channels (please be patient, this may take a while)\n",
            "Selecting by number: 15 components\n",
            "Fitting ICA took 2.6s.\n",
            "Applying ICA to Raw instance\n",
            "    Transforming to ICA space (15 components)\n",
            "    Zeroing out 0 ICA components\n",
            "    Projecting back using 21 PCA components\n",
            "Effective window size : 4.096 (s)\n",
            "Extracting EDF parameters from /content/drive/MyDrive/eeg-during-mental-arithmetic-tasks-1.0.0/Subject26_1.edf...\n",
            "EDF file detected\n",
            "Setting channel info structure...\n",
            "Creating raw.info structure...\n",
            "Reading 0 ... 90999  =      0.000 ...   181.998 secs...\n",
            "Fitting ICA to data using 21 channels (please be patient, this may take a while)\n",
            "Selecting by number: 15 components\n",
            "Fitting ICA took 4.2s.\n",
            "Applying ICA to Raw instance\n",
            "    Transforming to ICA space (15 components)\n",
            "    Zeroing out 0 ICA components\n",
            "    Projecting back using 21 PCA components\n",
            "Effective window size : 4.096 (s)\n",
            "Extracting EDF parameters from /content/drive/MyDrive/eeg-during-mental-arithmetic-tasks-1.0.0/Subject26_2.edf...\n",
            "EDF file detected\n",
            "Setting channel info structure...\n",
            "Creating raw.info structure...\n",
            "Reading 0 ... 30999  =      0.000 ...    61.998 secs...\n",
            "Fitting ICA to data using 21 channels (please be patient, this may take a while)\n",
            "Selecting by number: 15 components\n",
            "Fitting ICA took 2.3s.\n",
            "Applying ICA to Raw instance\n",
            "    Transforming to ICA space (15 components)\n",
            "    Zeroing out 0 ICA components\n",
            "    Projecting back using 21 PCA components\n",
            "Effective window size : 4.096 (s)\n",
            "Extracting EDF parameters from /content/drive/MyDrive/eeg-during-mental-arithmetic-tasks-1.0.0/Subject27_1.edf...\n",
            "EDF file detected\n",
            "Setting channel info structure...\n",
            "Creating raw.info structure...\n",
            "Reading 0 ... 90999  =      0.000 ...   181.998 secs...\n",
            "Fitting ICA to data using 21 channels (please be patient, this may take a while)\n",
            "Selecting by number: 15 components\n"
          ]
        },
        {
          "name": "stderr",
          "output_type": "stream",
          "text": [
            "<ipython-input-31-c5939c7a778b>:35: RuntimeWarning: The data has not been high-pass filtered. For good ICA performance, it should be high-pass filtered (e.g., with a 1.0 Hz lower bound) before fitting ICA.\n",
            "  ica.fit(raw)\n"
          ]
        },
        {
          "name": "stdout",
          "output_type": "stream",
          "text": [
            "Fitting ICA took 8.8s.\n",
            "Applying ICA to Raw instance\n",
            "    Transforming to ICA space (15 components)\n",
            "    Zeroing out 0 ICA components\n",
            "    Projecting back using 21 PCA components\n",
            "Effective window size : 4.096 (s)\n",
            "Extracting EDF parameters from /content/drive/MyDrive/eeg-during-mental-arithmetic-tasks-1.0.0/Subject27_2.edf...\n",
            "EDF file detected\n",
            "Setting channel info structure...\n",
            "Creating raw.info structure...\n",
            "Reading 0 ... 30999  =      0.000 ...    61.998 secs...\n",
            "Fitting ICA to data using 21 channels (please be patient, this may take a while)\n",
            "Selecting by number: 15 components\n"
          ]
        },
        {
          "name": "stderr",
          "output_type": "stream",
          "text": [
            "<ipython-input-31-c5939c7a778b>:35: RuntimeWarning: The data has not been high-pass filtered. For good ICA performance, it should be high-pass filtered (e.g., with a 1.0 Hz lower bound) before fitting ICA.\n",
            "  ica.fit(raw)\n"
          ]
        },
        {
          "name": "stdout",
          "output_type": "stream",
          "text": [
            "Fitting ICA took 2.6s.\n",
            "Applying ICA to Raw instance\n",
            "    Transforming to ICA space (15 components)\n",
            "    Zeroing out 0 ICA components\n",
            "    Projecting back using 21 PCA components\n",
            "Effective window size : 4.096 (s)\n",
            "Extracting EDF parameters from /content/drive/MyDrive/eeg-during-mental-arithmetic-tasks-1.0.0/Subject28_1.edf...\n",
            "EDF file detected\n",
            "Setting channel info structure...\n",
            "Creating raw.info structure...\n",
            "Reading 0 ... 90999  =      0.000 ...   181.998 secs...\n",
            "Fitting ICA to data using 21 channels (please be patient, this may take a while)\n",
            "Selecting by number: 15 components\n"
          ]
        },
        {
          "name": "stderr",
          "output_type": "stream",
          "text": [
            "<ipython-input-31-c5939c7a778b>:35: RuntimeWarning: The data has not been high-pass filtered. For good ICA performance, it should be high-pass filtered (e.g., with a 1.0 Hz lower bound) before fitting ICA.\n",
            "  ica.fit(raw)\n"
          ]
        },
        {
          "name": "stdout",
          "output_type": "stream",
          "text": [
            "Fitting ICA took 4.7s.\n",
            "Applying ICA to Raw instance\n",
            "    Transforming to ICA space (15 components)\n",
            "    Zeroing out 0 ICA components\n",
            "    Projecting back using 21 PCA components\n",
            "Effective window size : 4.096 (s)\n",
            "Extracting EDF parameters from /content/drive/MyDrive/eeg-during-mental-arithmetic-tasks-1.0.0/Subject28_2.edf...\n",
            "EDF file detected\n",
            "Setting channel info structure...\n",
            "Creating raw.info structure...\n",
            "Reading 0 ... 30999  =      0.000 ...    61.998 secs...\n",
            "Fitting ICA to data using 21 channels (please be patient, this may take a while)\n",
            "Selecting by number: 15 components\n"
          ]
        },
        {
          "name": "stderr",
          "output_type": "stream",
          "text": [
            "<ipython-input-31-c5939c7a778b>:35: RuntimeWarning: The data has not been high-pass filtered. For good ICA performance, it should be high-pass filtered (e.g., with a 1.0 Hz lower bound) before fitting ICA.\n",
            "  ica.fit(raw)\n"
          ]
        },
        {
          "name": "stdout",
          "output_type": "stream",
          "text": [
            "Fitting ICA took 5.1s.\n",
            "Applying ICA to Raw instance\n",
            "    Transforming to ICA space (15 components)\n",
            "    Zeroing out 0 ICA components\n",
            "    Projecting back using 21 PCA components\n",
            "Effective window size : 4.096 (s)\n",
            "Extracting EDF parameters from /content/drive/MyDrive/eeg-during-mental-arithmetic-tasks-1.0.0/Subject29_1.edf...\n",
            "EDF file detected\n",
            "Setting channel info structure...\n",
            "Creating raw.info structure...\n",
            "Reading 0 ... 90999  =      0.000 ...   181.998 secs...\n",
            "Fitting ICA to data using 21 channels (please be patient, this may take a while)\n",
            "Selecting by number: 15 components\n",
            "Fitting ICA took 5.6s.\n",
            "Applying ICA to Raw instance\n",
            "    Transforming to ICA space (15 components)\n",
            "    Zeroing out 0 ICA components\n",
            "    Projecting back using 21 PCA components\n",
            "Effective window size : 4.096 (s)\n",
            "Extracting EDF parameters from /content/drive/MyDrive/eeg-during-mental-arithmetic-tasks-1.0.0/Subject29_2.edf...\n",
            "EDF file detected\n",
            "Setting channel info structure...\n",
            "Creating raw.info structure...\n",
            "Reading 0 ... 30999  =      0.000 ...    61.998 secs...\n",
            "Fitting ICA to data using 21 channels (please be patient, this may take a while)\n",
            "Selecting by number: 15 components\n",
            "Fitting ICA took 1.6s.\n",
            "Applying ICA to Raw instance\n",
            "    Transforming to ICA space (15 components)\n",
            "    Zeroing out 0 ICA components\n",
            "    Projecting back using 21 PCA components\n",
            "Effective window size : 4.096 (s)\n",
            "Extracting EDF parameters from /content/drive/MyDrive/eeg-during-mental-arithmetic-tasks-1.0.0/Subject30_1.edf...\n",
            "EDF file detected\n",
            "Setting channel info structure...\n",
            "Creating raw.info structure...\n",
            "Reading 0 ... 90999  =      0.000 ...   181.998 secs...\n",
            "Fitting ICA to data using 21 channels (please be patient, this may take a while)\n",
            "Selecting by number: 15 components\n"
          ]
        },
        {
          "name": "stderr",
          "output_type": "stream",
          "text": [
            "<ipython-input-31-c5939c7a778b>:35: RuntimeWarning: The data has not been high-pass filtered. For good ICA performance, it should be high-pass filtered (e.g., with a 1.0 Hz lower bound) before fitting ICA.\n",
            "  ica.fit(raw)\n"
          ]
        },
        {
          "name": "stdout",
          "output_type": "stream",
          "text": [
            "Fitting ICA took 3.0s.\n",
            "Applying ICA to Raw instance\n",
            "    Transforming to ICA space (15 components)\n",
            "    Zeroing out 0 ICA components\n",
            "    Projecting back using 21 PCA components\n",
            "Effective window size : 4.096 (s)\n",
            "Extracting EDF parameters from /content/drive/MyDrive/eeg-during-mental-arithmetic-tasks-1.0.0/Subject30_2.edf...\n",
            "EDF file detected\n",
            "Setting channel info structure...\n",
            "Creating raw.info structure...\n",
            "Reading 0 ... 30999  =      0.000 ...    61.998 secs...\n",
            "Fitting ICA to data using 21 channels (please be patient, this may take a while)\n",
            "Selecting by number: 15 components\n"
          ]
        },
        {
          "name": "stderr",
          "output_type": "stream",
          "text": [
            "<ipython-input-31-c5939c7a778b>:35: RuntimeWarning: The data has not been high-pass filtered. For good ICA performance, it should be high-pass filtered (e.g., with a 1.0 Hz lower bound) before fitting ICA.\n",
            "  ica.fit(raw)\n"
          ]
        },
        {
          "name": "stdout",
          "output_type": "stream",
          "text": [
            "Fitting ICA took 5.4s.\n",
            "Applying ICA to Raw instance\n",
            "    Transforming to ICA space (15 components)\n",
            "    Zeroing out 0 ICA components\n",
            "    Projecting back using 21 PCA components\n",
            "Effective window size : 4.096 (s)\n",
            "Extracting EDF parameters from /content/drive/MyDrive/eeg-during-mental-arithmetic-tasks-1.0.0/Subject31_1.edf...\n",
            "EDF file detected\n",
            "Setting channel info structure...\n",
            "Creating raw.info structure...\n",
            "Reading 0 ... 39999  =      0.000 ...    79.998 secs...\n",
            "Fitting ICA to data using 21 channels (please be patient, this may take a while)\n",
            "Selecting by number: 15 components\n",
            "Fitting ICA took 90.6s.\n",
            "Applying ICA to Raw instance\n",
            "    Transforming to ICA space (15 components)\n",
            "    Zeroing out 0 ICA components\n",
            "    Projecting back using 21 PCA components\n",
            "Effective window size : 4.096 (s)\n",
            "Extracting EDF parameters from /content/drive/MyDrive/eeg-during-mental-arithmetic-tasks-1.0.0/Subject31_2.edf...\n",
            "EDF file detected\n",
            "Setting channel info structure...\n",
            "Creating raw.info structure...\n",
            "Reading 0 ... 30999  =      0.000 ...    61.998 secs...\n"
          ]
        },
        {
          "name": "stderr",
          "output_type": "stream",
          "text": [
            "/usr/local/lib/python3.10/dist-packages/sklearn/decomposition/_fastica.py:128: ConvergenceWarning: FastICA did not converge. Consider increasing tolerance or the maximum number of iterations.\n",
            "  warnings.warn(\n"
          ]
        },
        {
          "name": "stdout",
          "output_type": "stream",
          "text": [
            "Fitting ICA to data using 21 channels (please be patient, this may take a while)\n",
            "Selecting by number: 15 components\n"
          ]
        },
        {
          "name": "stderr",
          "output_type": "stream",
          "text": [
            "<ipython-input-31-c5939c7a778b>:35: RuntimeWarning: The data has not been high-pass filtered. For good ICA performance, it should be high-pass filtered (e.g., with a 1.0 Hz lower bound) before fitting ICA.\n",
            "  ica.fit(raw)\n"
          ]
        },
        {
          "name": "stdout",
          "output_type": "stream",
          "text": [
            "Fitting ICA took 2.1s.\n",
            "Applying ICA to Raw instance\n",
            "    Transforming to ICA space (15 components)\n",
            "    Zeroing out 0 ICA components\n",
            "    Projecting back using 21 PCA components\n",
            "Effective window size : 4.096 (s)\n",
            "Extracting EDF parameters from /content/drive/MyDrive/eeg-during-mental-arithmetic-tasks-1.0.0/Subject32_1.edf...\n",
            "EDF file detected\n",
            "Setting channel info structure...\n",
            "Creating raw.info structure...\n",
            "Reading 0 ... 90999  =      0.000 ...   181.998 secs...\n",
            "Fitting ICA to data using 21 channels (please be patient, this may take a while)\n",
            "Selecting by number: 15 components\n",
            "Fitting ICA took 8.7s.\n",
            "Applying ICA to Raw instance\n",
            "    Transforming to ICA space (15 components)\n",
            "    Zeroing out 0 ICA components\n",
            "    Projecting back using 21 PCA components\n",
            "Effective window size : 4.096 (s)\n",
            "Extracting EDF parameters from /content/drive/MyDrive/eeg-during-mental-arithmetic-tasks-1.0.0/Subject32_2.edf...\n",
            "EDF file detected\n",
            "Setting channel info structure...\n",
            "Creating raw.info structure...\n",
            "Reading 0 ... 30999  =      0.000 ...    61.998 secs...\n",
            "Fitting ICA to data using 21 channels (please be patient, this may take a while)\n",
            "Selecting by number: 15 components\n"
          ]
        },
        {
          "name": "stderr",
          "output_type": "stream",
          "text": [
            "<ipython-input-31-c5939c7a778b>:35: RuntimeWarning: The data has not been high-pass filtered. For good ICA performance, it should be high-pass filtered (e.g., with a 1.0 Hz lower bound) before fitting ICA.\n",
            "  ica.fit(raw)\n"
          ]
        },
        {
          "name": "stdout",
          "output_type": "stream",
          "text": [
            "Fitting ICA took 1.9s.\n",
            "Applying ICA to Raw instance\n",
            "    Transforming to ICA space (15 components)\n",
            "    Zeroing out 0 ICA components\n",
            "    Projecting back using 21 PCA components\n",
            "Effective window size : 4.096 (s)\n",
            "Extracting EDF parameters from /content/drive/MyDrive/eeg-during-mental-arithmetic-tasks-1.0.0/Subject33_1.edf...\n",
            "EDF file detected\n",
            "Setting channel info structure...\n",
            "Creating raw.info structure...\n",
            "Reading 0 ... 90999  =      0.000 ...   181.998 secs...\n",
            "Fitting ICA to data using 21 channels (please be patient, this may take a while)\n",
            "Selecting by number: 15 components\n",
            "Fitting ICA took 5.5s.\n",
            "Applying ICA to Raw instance\n",
            "    Transforming to ICA space (15 components)\n",
            "    Zeroing out 0 ICA components\n",
            "    Projecting back using 21 PCA components\n",
            "Effective window size : 4.096 (s)\n",
            "Extracting EDF parameters from /content/drive/MyDrive/eeg-during-mental-arithmetic-tasks-1.0.0/Subject33_2.edf...\n",
            "EDF file detected\n",
            "Setting channel info structure...\n",
            "Creating raw.info structure...\n",
            "Reading 0 ... 30999  =      0.000 ...    61.998 secs...\n",
            "Fitting ICA to data using 21 channels (please be patient, this may take a while)\n",
            "Selecting by number: 15 components\n",
            "Fitting ICA took 6.1s.\n",
            "Applying ICA to Raw instance\n",
            "    Transforming to ICA space (15 components)\n",
            "    Zeroing out 0 ICA components\n",
            "    Projecting back using 21 PCA components\n",
            "Effective window size : 4.096 (s)\n",
            "Extracting EDF parameters from /content/drive/MyDrive/eeg-during-mental-arithmetic-tasks-1.0.0/Subject34_1.edf...\n",
            "EDF file detected\n",
            "Setting channel info structure...\n",
            "Creating raw.info structure...\n",
            "Reading 0 ... 90999  =      0.000 ...   181.998 secs...\n",
            "Fitting ICA to data using 21 channels (please be patient, this may take a while)\n",
            "Selecting by number: 15 components\n"
          ]
        },
        {
          "name": "stderr",
          "output_type": "stream",
          "text": [
            "<ipython-input-31-c5939c7a778b>:35: RuntimeWarning: The data has not been high-pass filtered. For good ICA performance, it should be high-pass filtered (e.g., with a 1.0 Hz lower bound) before fitting ICA.\n",
            "  ica.fit(raw)\n"
          ]
        },
        {
          "name": "stdout",
          "output_type": "stream",
          "text": [
            "Fitting ICA took 5.1s.\n",
            "Applying ICA to Raw instance\n",
            "    Transforming to ICA space (15 components)\n",
            "    Zeroing out 0 ICA components\n",
            "    Projecting back using 21 PCA components\n",
            "Effective window size : 4.096 (s)\n",
            "Extracting EDF parameters from /content/drive/MyDrive/eeg-during-mental-arithmetic-tasks-1.0.0/Subject34_2.edf...\n",
            "EDF file detected\n",
            "Setting channel info structure...\n",
            "Creating raw.info structure...\n",
            "Reading 0 ... 30999  =      0.000 ...    61.998 secs...\n",
            "Fitting ICA to data using 21 channels (please be patient, this may take a while)\n",
            "Selecting by number: 15 components\n"
          ]
        },
        {
          "name": "stderr",
          "output_type": "stream",
          "text": [
            "<ipython-input-31-c5939c7a778b>:35: RuntimeWarning: The data has not been high-pass filtered. For good ICA performance, it should be high-pass filtered (e.g., with a 1.0 Hz lower bound) before fitting ICA.\n",
            "  ica.fit(raw)\n"
          ]
        },
        {
          "name": "stdout",
          "output_type": "stream",
          "text": [
            "Fitting ICA took 1.7s.\n",
            "Applying ICA to Raw instance\n",
            "    Transforming to ICA space (15 components)\n",
            "    Zeroing out 0 ICA components\n",
            "    Projecting back using 21 PCA components\n",
            "Effective window size : 4.096 (s)\n",
            "Extracting EDF parameters from /content/drive/MyDrive/eeg-during-mental-arithmetic-tasks-1.0.0/Subject35_1.edf...\n",
            "EDF file detected\n",
            "Setting channel info structure...\n",
            "Creating raw.info structure...\n",
            "Reading 0 ... 90999  =      0.000 ...   181.998 secs...\n",
            "Fitting ICA to data using 21 channels (please be patient, this may take a while)\n",
            "Selecting by number: 15 components\n"
          ]
        },
        {
          "name": "stderr",
          "output_type": "stream",
          "text": [
            "<ipython-input-31-c5939c7a778b>:35: RuntimeWarning: The data has not been high-pass filtered. For good ICA performance, it should be high-pass filtered (e.g., with a 1.0 Hz lower bound) before fitting ICA.\n",
            "  ica.fit(raw)\n"
          ]
        },
        {
          "name": "stdout",
          "output_type": "stream",
          "text": [
            "Fitting ICA took 5.3s.\n",
            "Applying ICA to Raw instance\n",
            "    Transforming to ICA space (15 components)\n",
            "    Zeroing out 0 ICA components\n",
            "    Projecting back using 21 PCA components\n",
            "Effective window size : 4.096 (s)\n",
            "Extracting EDF parameters from /content/drive/MyDrive/eeg-during-mental-arithmetic-tasks-1.0.0/Subject35_2.edf...\n",
            "EDF file detected\n",
            "Setting channel info structure...\n",
            "Creating raw.info structure...\n",
            "Reading 0 ... 30999  =      0.000 ...    61.998 secs...\n",
            "Fitting ICA to data using 21 channels (please be patient, this may take a while)\n",
            "Selecting by number: 15 components\n"
          ]
        },
        {
          "name": "stderr",
          "output_type": "stream",
          "text": [
            "<ipython-input-31-c5939c7a778b>:35: RuntimeWarning: The data has not been high-pass filtered. For good ICA performance, it should be high-pass filtered (e.g., with a 1.0 Hz lower bound) before fitting ICA.\n",
            "  ica.fit(raw)\n"
          ]
        },
        {
          "name": "stdout",
          "output_type": "stream",
          "text": [
            "Fitting ICA took 2.3s.\n",
            "Applying ICA to Raw instance\n",
            "    Transforming to ICA space (15 components)\n",
            "    Zeroing out 0 ICA components\n",
            "    Projecting back using 21 PCA components\n",
            "Effective window size : 4.096 (s)\n",
            "Epoch 1/100\n",
            "\u001b[1m2/2\u001b[0m \u001b[32m━━━━━━━━━━━━━━━━━━━━\u001b[0m\u001b[37m\u001b[0m \u001b[1m7s\u001b[0m 632ms/step - accuracy: 0.4435 - loss: 0.8997 - val_accuracy: 0.5000 - val_loss: 0.8965\n",
            "Epoch 2/100\n",
            "\u001b[1m2/2\u001b[0m \u001b[32m━━━━━━━━━━━━━━━━━━━━\u001b[0m\u001b[37m\u001b[0m \u001b[1m0s\u001b[0m 62ms/step - accuracy: 0.4970 - loss: 0.8944 - val_accuracy: 0.5000 - val_loss: 0.8962\n",
            "Epoch 3/100\n",
            "\u001b[1m2/2\u001b[0m \u001b[32m━━━━━━━━━━━━━━━━━━━━\u001b[0m\u001b[37m\u001b[0m \u001b[1m0s\u001b[0m 55ms/step - accuracy: 0.4330 - loss: 0.8996 - val_accuracy: 0.5000 - val_loss: 0.8959\n",
            "Epoch 4/100\n",
            "\u001b[1m2/2\u001b[0m \u001b[32m━━━━━━━━━━━━━━━━━━━━\u001b[0m\u001b[37m\u001b[0m \u001b[1m0s\u001b[0m 53ms/step - accuracy: 0.6801 - loss: 0.8539 - val_accuracy: 0.5000 - val_loss: 0.8957\n",
            "Epoch 5/100\n",
            "\u001b[1m2/2\u001b[0m \u001b[32m━━━━━━━━━━━━━━━━━━━━\u001b[0m\u001b[37m\u001b[0m \u001b[1m0s\u001b[0m 61ms/step - accuracy: 0.6577 - loss: 0.8516 - val_accuracy: 0.7143 - val_loss: 0.8954\n",
            "Epoch 6/100\n",
            "\u001b[1m2/2\u001b[0m \u001b[32m━━━━━━━━━━━━━━━━━━━━\u001b[0m\u001b[37m\u001b[0m \u001b[1m0s\u001b[0m 54ms/step - accuracy: 0.7604 - loss: 0.8319 - val_accuracy: 0.6429 - val_loss: 0.8950\n",
            "Epoch 7/100\n",
            "\u001b[1m2/2\u001b[0m \u001b[32m━━━━━━━━━━━━━━━━━━━━\u001b[0m\u001b[37m\u001b[0m \u001b[1m0s\u001b[0m 56ms/step - accuracy: 0.8289 - loss: 0.8254 - val_accuracy: 0.6429 - val_loss: 0.8945\n",
            "Epoch 8/100\n",
            "\u001b[1m2/2\u001b[0m \u001b[32m━━━━━━━━━━━━━━━━━━━━\u001b[0m\u001b[37m\u001b[0m \u001b[1m0s\u001b[0m 56ms/step - accuracy: 0.6726 - loss: 0.8438 - val_accuracy: 0.6429 - val_loss: 0.8941\n",
            "Epoch 9/100\n",
            "\u001b[1m2/2\u001b[0m \u001b[32m━━━━━━━━━━━━━━━━━━━━\u001b[0m\u001b[37m\u001b[0m \u001b[1m0s\u001b[0m 57ms/step - accuracy: 0.7351 - loss: 0.8272 - val_accuracy: 0.6429 - val_loss: 0.8937\n",
            "Epoch 10/100\n",
            "\u001b[1m2/2\u001b[0m \u001b[32m━━━━━━━━━━━━━━━━━━━━\u001b[0m\u001b[37m\u001b[0m \u001b[1m0s\u001b[0m 95ms/step - accuracy: 0.6815 - loss: 0.8253 - val_accuracy: 0.5714 - val_loss: 0.8934\n",
            "Epoch 11/100\n",
            "\u001b[1m2/2\u001b[0m \u001b[32m━━━━━━━━━━━━━━━━━━━━\u001b[0m\u001b[37m\u001b[0m \u001b[1m0s\u001b[0m 108ms/step - accuracy: 0.7143 - loss: 0.8191 - val_accuracy: 0.5714 - val_loss: 0.8931\n",
            "Epoch 12/100\n",
            "\u001b[1m2/2\u001b[0m \u001b[32m━━━━━━━━━━━━━━━━━━━━\u001b[0m\u001b[37m\u001b[0m \u001b[1m0s\u001b[0m 89ms/step - accuracy: 0.8170 - loss: 0.8067 - val_accuracy: 0.6429 - val_loss: 0.8927\n",
            "Epoch 13/100\n",
            "\u001b[1m2/2\u001b[0m \u001b[32m━━━━━━━━━━━━━━━━━━━━\u001b[0m\u001b[37m\u001b[0m \u001b[1m0s\u001b[0m 116ms/step - accuracy: 0.8185 - loss: 0.7865 - val_accuracy: 0.5714 - val_loss: 0.8925\n",
            "Epoch 14/100\n",
            "\u001b[1m2/2\u001b[0m \u001b[32m━━━━━━━━━━━━━━━━━━━━\u001b[0m\u001b[37m\u001b[0m \u001b[1m0s\u001b[0m 79ms/step - accuracy: 0.8289 - loss: 0.7960 - val_accuracy: 0.6429 - val_loss: 0.8922\n",
            "Epoch 15/100\n",
            "\u001b[1m2/2\u001b[0m \u001b[32m━━━━━━━━━━━━━━━━━━━━\u001b[0m\u001b[37m\u001b[0m \u001b[1m0s\u001b[0m 113ms/step - accuracy: 0.8304 - loss: 0.7691 - val_accuracy: 0.6429 - val_loss: 0.8918\n",
            "Epoch 16/100\n",
            "\u001b[1m2/2\u001b[0m \u001b[32m━━━━━━━━━━━━━━━━━━━━\u001b[0m\u001b[37m\u001b[0m \u001b[1m0s\u001b[0m 95ms/step - accuracy: 0.7842 - loss: 0.7660 - val_accuracy: 0.6429 - val_loss: 0.8915\n",
            "Epoch 17/100\n",
            "\u001b[1m2/2\u001b[0m \u001b[32m━━━━━━━━━━━━━━━━━━━━\u001b[0m\u001b[37m\u001b[0m \u001b[1m0s\u001b[0m 105ms/step - accuracy: 0.8512 - loss: 0.7640 - val_accuracy: 0.6429 - val_loss: 0.8912\n",
            "Epoch 18/100\n",
            "\u001b[1m2/2\u001b[0m \u001b[32m━━━━━━━━━━━━━━━━━━━━\u001b[0m\u001b[37m\u001b[0m \u001b[1m0s\u001b[0m 98ms/step - accuracy: 0.8289 - loss: 0.7717 - val_accuracy: 0.6429 - val_loss: 0.8907\n",
            "Epoch 19/100\n",
            "\u001b[1m2/2\u001b[0m \u001b[32m━━━━━━━━━━━━━━━━━━━━\u001b[0m\u001b[37m\u001b[0m \u001b[1m0s\u001b[0m 124ms/step - accuracy: 0.8854 - loss: 0.7366 - val_accuracy: 0.6429 - val_loss: 0.8903\n",
            "Epoch 20/100\n",
            "\u001b[1m2/2\u001b[0m \u001b[32m━━━━━━━━━━━━━━━━━━━━\u001b[0m\u001b[37m\u001b[0m \u001b[1m0s\u001b[0m 106ms/step - accuracy: 0.8646 - loss: 0.7390 - val_accuracy: 0.6429 - val_loss: 0.8898\n",
            "Epoch 21/100\n",
            "\u001b[1m2/2\u001b[0m \u001b[32m━━━━━━━━━━━━━━━━━━━━\u001b[0m\u001b[37m\u001b[0m \u001b[1m0s\u001b[0m 126ms/step - accuracy: 0.8080 - loss: 0.7303 - val_accuracy: 0.6429 - val_loss: 0.8894\n",
            "Epoch 22/100\n",
            "\u001b[1m2/2\u001b[0m \u001b[32m━━━━━━━━━━━━━━━━━━━━\u001b[0m\u001b[37m\u001b[0m \u001b[1m0s\u001b[0m 106ms/step - accuracy: 0.9077 - loss: 0.7111 - val_accuracy: 0.6429 - val_loss: 0.8889\n",
            "Epoch 23/100\n",
            "\u001b[1m2/2\u001b[0m \u001b[32m━━━━━━━━━━━━━━━━━━━━\u001b[0m\u001b[37m\u001b[0m \u001b[1m0s\u001b[0m 110ms/step - accuracy: 0.9077 - loss: 0.6966 - val_accuracy: 0.6429 - val_loss: 0.8885\n",
            "Epoch 24/100\n",
            "\u001b[1m2/2\u001b[0m \u001b[32m━━━━━━━━━━━━━━━━━━━━\u001b[0m\u001b[37m\u001b[0m \u001b[1m0s\u001b[0m 100ms/step - accuracy: 0.9196 - loss: 0.7105 - val_accuracy: 0.6429 - val_loss: 0.8880\n",
            "Epoch 25/100\n",
            "\u001b[1m2/2\u001b[0m \u001b[32m━━━━━━━━━━━━━━━━━━━━\u001b[0m\u001b[37m\u001b[0m \u001b[1m0s\u001b[0m 112ms/step - accuracy: 0.8646 - loss: 0.6919 - val_accuracy: 0.6429 - val_loss: 0.8876\n",
            "Epoch 26/100\n",
            "\u001b[1m2/2\u001b[0m \u001b[32m━━━━━━━━━━━━━━━━━━━━\u001b[0m\u001b[37m\u001b[0m \u001b[1m0s\u001b[0m 115ms/step - accuracy: 0.8750 - loss: 0.6717 - val_accuracy: 0.6429 - val_loss: 0.8873\n",
            "Epoch 27/100\n",
            "\u001b[1m2/2\u001b[0m \u001b[32m━━━━━━━━━━━━━━━━━━━━\u001b[0m\u001b[37m\u001b[0m \u001b[1m0s\u001b[0m 113ms/step - accuracy: 0.8527 - loss: 0.6935 - val_accuracy: 0.6429 - val_loss: 0.8869\n",
            "Epoch 28/100\n",
            "\u001b[1m2/2\u001b[0m \u001b[32m━━━━━━━━━━━━━━━━━━━━\u001b[0m\u001b[37m\u001b[0m \u001b[1m0s\u001b[0m 86ms/step - accuracy: 0.9196 - loss: 0.6542 - val_accuracy: 0.6429 - val_loss: 0.8865\n",
            "Epoch 29/100\n",
            "\u001b[1m2/2\u001b[0m \u001b[32m━━━━━━━━━━━━━━━━━━━━\u001b[0m\u001b[37m\u001b[0m \u001b[1m0s\u001b[0m 64ms/step - accuracy: 0.8884 - loss: 0.6717 - val_accuracy: 0.6429 - val_loss: 0.8861\n",
            "Epoch 30/100\n",
            "\u001b[1m2/2\u001b[0m \u001b[32m━━━━━━━━━━━━━━━━━━━━\u001b[0m\u001b[37m\u001b[0m \u001b[1m0s\u001b[0m 74ms/step - accuracy: 0.8318 - loss: 0.6651 - val_accuracy: 0.6429 - val_loss: 0.8857\n",
            "Epoch 31/100\n",
            "\u001b[1m2/2\u001b[0m \u001b[32m━━━━━━━━━━━━━━━━━━━━\u001b[0m\u001b[37m\u001b[0m \u001b[1m0s\u001b[0m 64ms/step - accuracy: 0.9315 - loss: 0.6143 - val_accuracy: 0.6429 - val_loss: 0.8853\n",
            "Epoch 32/100\n",
            "\u001b[1m2/2\u001b[0m \u001b[32m━━━━━━━━━━━━━━━━━━━━\u001b[0m\u001b[37m\u001b[0m \u001b[1m0s\u001b[0m 86ms/step - accuracy: 0.8869 - loss: 0.6154 - val_accuracy: 0.6429 - val_loss: 0.8849\n",
            "Epoch 33/100\n",
            "\u001b[1m2/2\u001b[0m \u001b[32m━━━━━━━━━━━━━━━━━━━━\u001b[0m\u001b[37m\u001b[0m \u001b[1m0s\u001b[0m 68ms/step - accuracy: 0.8973 - loss: 0.6190 - val_accuracy: 0.6429 - val_loss: 0.8845\n",
            "Epoch 34/100\n",
            "\u001b[1m2/2\u001b[0m \u001b[32m━━━━━━━━━━━━━━━━━━━━\u001b[0m\u001b[37m\u001b[0m \u001b[1m0s\u001b[0m 65ms/step - accuracy: 0.9315 - loss: 0.5913 - val_accuracy: 0.6429 - val_loss: 0.8841\n",
            "Epoch 35/100\n",
            "\u001b[1m2/2\u001b[0m \u001b[32m━━━━━━━━━━━━━━━━━━━━\u001b[0m\u001b[37m\u001b[0m \u001b[1m0s\u001b[0m 67ms/step - accuracy: 0.9435 - loss: 0.5950 - val_accuracy: 0.6429 - val_loss: 0.8836\n",
            "Epoch 36/100\n",
            "\u001b[1m2/2\u001b[0m \u001b[32m━━━━━━━━━━━━━━━━━━━━\u001b[0m\u001b[37m\u001b[0m \u001b[1m0s\u001b[0m 114ms/step - accuracy: 0.9211 - loss: 0.5883 - val_accuracy: 0.5714 - val_loss: 0.8831\n",
            "Epoch 37/100\n",
            "\u001b[1m2/2\u001b[0m \u001b[32m━━━━━━━━━━━━━━━━━━━━\u001b[0m\u001b[37m\u001b[0m \u001b[1m0s\u001b[0m 60ms/step - accuracy: 0.8839 - loss: 0.5606 - val_accuracy: 0.5714 - val_loss: 0.8826\n",
            "Epoch 38/100\n",
            "\u001b[1m2/2\u001b[0m \u001b[32m━━━━━━━━━━━━━━━━━━━━\u001b[0m\u001b[37m\u001b[0m \u001b[1m0s\u001b[0m 61ms/step - accuracy: 0.9196 - loss: 0.5596 - val_accuracy: 0.5714 - val_loss: 0.8821\n",
            "Epoch 39/100\n",
            "\u001b[1m2/2\u001b[0m \u001b[32m━━━━━━━━━━━━━━━━━━━━\u001b[0m\u001b[37m\u001b[0m \u001b[1m0s\u001b[0m 57ms/step - accuracy: 0.9107 - loss: 0.5550 - val_accuracy: 0.5714 - val_loss: 0.8816\n",
            "Epoch 40/100\n",
            "\u001b[1m2/2\u001b[0m \u001b[32m━━━━━━━━━━━━━━━━━━━━\u001b[0m\u001b[37m\u001b[0m \u001b[1m0s\u001b[0m 52ms/step - accuracy: 0.9420 - loss: 0.5400 - val_accuracy: 0.5714 - val_loss: 0.8811\n",
            "Epoch 41/100\n",
            "\u001b[1m2/2\u001b[0m \u001b[32m━━━━━━━━━━━━━━━━━━━━\u001b[0m\u001b[37m\u001b[0m \u001b[1m0s\u001b[0m 53ms/step - accuracy: 0.9643 - loss: 0.4991 - val_accuracy: 0.5714 - val_loss: 0.8806\n",
            "Epoch 42/100\n",
            "\u001b[1m2/2\u001b[0m \u001b[32m━━━━━━━━━━━━━━━━━━━━\u001b[0m\u001b[37m\u001b[0m \u001b[1m0s\u001b[0m 72ms/step - accuracy: 0.8765 - loss: 0.5316 - val_accuracy: 0.5714 - val_loss: 0.8800\n",
            "Epoch 43/100\n",
            "\u001b[1m2/2\u001b[0m \u001b[32m━━━━━━━━━━━━━━━━━━━━\u001b[0m\u001b[37m\u001b[0m \u001b[1m0s\u001b[0m 54ms/step - accuracy: 0.9196 - loss: 0.5165 - val_accuracy: 0.5714 - val_loss: 0.8793\n",
            "Epoch 44/100\n",
            "\u001b[1m2/2\u001b[0m \u001b[32m━━━━━━━━━━━━━━━━━━━━\u001b[0m\u001b[37m\u001b[0m \u001b[1m0s\u001b[0m 53ms/step - accuracy: 0.9196 - loss: 0.5028 - val_accuracy: 0.5714 - val_loss: 0.8788\n",
            "Epoch 45/100\n",
            "\u001b[1m2/2\u001b[0m \u001b[32m━━━━━━━━━━━━━━━━━━━━\u001b[0m\u001b[37m\u001b[0m \u001b[1m0s\u001b[0m 53ms/step - accuracy: 0.9420 - loss: 0.4659 - val_accuracy: 0.5714 - val_loss: 0.8784\n",
            "Epoch 46/100\n",
            "\u001b[1m2/2\u001b[0m \u001b[32m━━━━━━━━━━━━━━━━━━━━\u001b[0m\u001b[37m\u001b[0m \u001b[1m0s\u001b[0m 56ms/step - accuracy: 0.9196 - loss: 0.4766 - val_accuracy: 0.5714 - val_loss: 0.8779\n",
            "Epoch 47/100\n",
            "\u001b[1m2/2\u001b[0m \u001b[32m━━━━━━━━━━━━━━━━━━━━\u001b[0m\u001b[37m\u001b[0m \u001b[1m0s\u001b[0m 80ms/step - accuracy: 0.9554 - loss: 0.4847 - val_accuracy: 0.5714 - val_loss: 0.8775\n",
            "Epoch 48/100\n",
            "\u001b[1m2/2\u001b[0m \u001b[32m━━━━━━━━━━━━━━━━━━━━\u001b[0m\u001b[37m\u001b[0m \u001b[1m0s\u001b[0m 64ms/step - accuracy: 0.9539 - loss: 0.4233 - val_accuracy: 0.5714 - val_loss: 0.8769\n",
            "Epoch 49/100\n",
            "\u001b[1m2/2\u001b[0m \u001b[32m━━━━━━━━━━━━━━━━━━━━\u001b[0m\u001b[37m\u001b[0m \u001b[1m0s\u001b[0m 84ms/step - accuracy: 0.9658 - loss: 0.4423 - val_accuracy: 0.5714 - val_loss: 0.8765\n",
            "Epoch 50/100\n",
            "\u001b[1m2/2\u001b[0m \u001b[32m━━━━━━━━━━━━━━━━━━━━\u001b[0m\u001b[37m\u001b[0m \u001b[1m0s\u001b[0m 65ms/step - accuracy: 0.9658 - loss: 0.4461 - val_accuracy: 0.5714 - val_loss: 0.8762\n",
            "Epoch 51/100\n",
            "\u001b[1m2/2\u001b[0m \u001b[32m━━━━━━━━━━━━━━━━━━━━\u001b[0m\u001b[37m\u001b[0m \u001b[1m0s\u001b[0m 89ms/step - accuracy: 0.9777 - loss: 0.4184 - val_accuracy: 0.5714 - val_loss: 0.8758\n",
            "Epoch 52/100\n",
            "\u001b[1m2/2\u001b[0m \u001b[32m━━━━━━━━━━━━━━━━━━━━\u001b[0m\u001b[37m\u001b[0m \u001b[1m0s\u001b[0m 62ms/step - accuracy: 0.9777 - loss: 0.4364 - val_accuracy: 0.5714 - val_loss: 0.8754\n",
            "Epoch 53/100\n",
            "\u001b[1m2/2\u001b[0m \u001b[32m━━━━━━━━━━━━━━━━━━━━\u001b[0m\u001b[37m\u001b[0m \u001b[1m0s\u001b[0m 62ms/step - accuracy: 0.9658 - loss: 0.3815 - val_accuracy: 0.5714 - val_loss: 0.8750\n",
            "Epoch 54/100\n",
            "\u001b[1m2/2\u001b[0m \u001b[32m━━━━━━━━━━━━━━━━━━━━\u001b[0m\u001b[37m\u001b[0m \u001b[1m0s\u001b[0m 94ms/step - accuracy: 0.9777 - loss: 0.3921 - val_accuracy: 0.5714 - val_loss: 0.8747\n",
            "Epoch 55/100\n",
            "\u001b[1m2/2\u001b[0m \u001b[32m━━━━━━━━━━━━━━━━━━━━\u001b[0m\u001b[37m\u001b[0m \u001b[1m0s\u001b[0m 78ms/step - accuracy: 0.9554 - loss: 0.3986 - val_accuracy: 0.5714 - val_loss: 0.8746\n",
            "Epoch 56/100\n",
            "\u001b[1m2/2\u001b[0m \u001b[32m━━━━━━━━━━━━━━━━━━━━\u001b[0m\u001b[37m\u001b[0m \u001b[1m0s\u001b[0m 86ms/step - accuracy: 0.9554 - loss: 0.3667 - val_accuracy: 0.5714 - val_loss: 0.8744\n",
            "Epoch 57/100\n",
            "\u001b[1m2/2\u001b[0m \u001b[32m━━━━━━━━━━━━━━━━━━━━\u001b[0m\u001b[37m\u001b[0m \u001b[1m0s\u001b[0m 81ms/step - accuracy: 0.9762 - loss: 0.3576 - val_accuracy: 0.5714 - val_loss: 0.8743\n",
            "Epoch 58/100\n",
            "\u001b[1m2/2\u001b[0m \u001b[32m━━━━━━━━━━━━━━━━━━━━\u001b[0m\u001b[37m\u001b[0m \u001b[1m0s\u001b[0m 71ms/step - accuracy: 1.0000 - loss: 0.3511 - val_accuracy: 0.5714 - val_loss: 0.8740\n",
            "Epoch 59/100\n",
            "\u001b[1m2/2\u001b[0m \u001b[32m━━━━━━━━━━━━━━━━━━━━\u001b[0m\u001b[37m\u001b[0m \u001b[1m0s\u001b[0m 90ms/step - accuracy: 0.9881 - loss: 0.3283 - val_accuracy: 0.5714 - val_loss: 0.8740\n",
            "Epoch 60/100\n",
            "\u001b[1m2/2\u001b[0m \u001b[32m━━━━━━━━━━━━━━━━━━━━\u001b[0m\u001b[37m\u001b[0m \u001b[1m0s\u001b[0m 56ms/step - accuracy: 0.9881 - loss: 0.3288 - val_accuracy: 0.5000 - val_loss: 0.8741\n",
            "Epoch 61/100\n",
            "\u001b[1m2/2\u001b[0m \u001b[32m━━━━━━━━━━━━━━━━━━━━\u001b[0m\u001b[37m\u001b[0m \u001b[1m0s\u001b[0m 74ms/step - accuracy: 1.0000 - loss: 0.3244 - val_accuracy: 0.5000 - val_loss: 0.8742\n",
            "Epoch 62/100\n",
            "\u001b[1m2/2\u001b[0m \u001b[32m━━━━━━━━━━━━━━━━━━━━\u001b[0m\u001b[37m\u001b[0m \u001b[1m0s\u001b[0m 56ms/step - accuracy: 0.9777 - loss: 0.3088 - val_accuracy: 0.5000 - val_loss: 0.8744\n",
            "Epoch 63/100\n",
            "\u001b[1m2/2\u001b[0m \u001b[32m━━━━━━━━━━━━━━━━━━━━\u001b[0m\u001b[37m\u001b[0m \u001b[1m0s\u001b[0m 54ms/step - accuracy: 1.0000 - loss: 0.2961 - val_accuracy: 0.5714 - val_loss: 0.8745\n",
            "Epoch 64/100\n",
            "\u001b[1m2/2\u001b[0m \u001b[32m━━━━━━━━━━━━━━━━━━━━\u001b[0m\u001b[37m\u001b[0m \u001b[1m0s\u001b[0m 50ms/step - accuracy: 0.9777 - loss: 0.3113 - val_accuracy: 0.5714 - val_loss: 0.8749\n",
            "Epoch 65/100\n",
            "\u001b[1m2/2\u001b[0m \u001b[32m━━━━━━━━━━━━━━━━━━━━\u001b[0m\u001b[37m\u001b[0m \u001b[1m0s\u001b[0m 54ms/step - accuracy: 0.9777 - loss: 0.3098 - val_accuracy: 0.5714 - val_loss: 0.8749\n",
            "Epoch 66/100\n",
            "\u001b[1m2/2\u001b[0m \u001b[32m━━━━━━━━━━━━━━━━━━━━\u001b[0m\u001b[37m\u001b[0m \u001b[1m0s\u001b[0m 55ms/step - accuracy: 0.9554 - loss: 0.3128 - val_accuracy: 0.5714 - val_loss: 0.8742\n",
            "Epoch 67/100\n",
            "\u001b[1m2/2\u001b[0m \u001b[32m━━━━━━━━━━━━━━━━━━━━\u001b[0m\u001b[37m\u001b[0m \u001b[1m0s\u001b[0m 54ms/step - accuracy: 1.0000 - loss: 0.2813 - val_accuracy: 0.5714 - val_loss: 0.8735\n",
            "Epoch 68/100\n",
            "\u001b[1m2/2\u001b[0m \u001b[32m━━━━━━━━━━━━━━━━━━━━\u001b[0m\u001b[37m\u001b[0m \u001b[1m0s\u001b[0m 60ms/step - accuracy: 1.0000 - loss: 0.2721 - val_accuracy: 0.5714 - val_loss: 0.8726\n",
            "Epoch 69/100\n",
            "\u001b[1m2/2\u001b[0m \u001b[32m━━━━━━━━━━━━━━━━━━━━\u001b[0m\u001b[37m\u001b[0m \u001b[1m0s\u001b[0m 79ms/step - accuracy: 1.0000 - loss: 0.2759 - val_accuracy: 0.5714 - val_loss: 0.8725\n",
            "Epoch 70/100\n",
            "\u001b[1m2/2\u001b[0m \u001b[32m━━━━━━━━━━━━━━━━━━━━\u001b[0m\u001b[37m\u001b[0m \u001b[1m0s\u001b[0m 72ms/step - accuracy: 1.0000 - loss: 0.2721 - val_accuracy: 0.5714 - val_loss: 0.8727\n",
            "Epoch 71/100\n",
            "\u001b[1m2/2\u001b[0m \u001b[32m━━━━━━━━━━━━━━━━━━━━\u001b[0m\u001b[37m\u001b[0m \u001b[1m0s\u001b[0m 69ms/step - accuracy: 0.9881 - loss: 0.2670 - val_accuracy: 0.5714 - val_loss: 0.8731\n",
            "Epoch 72/100\n",
            "\u001b[1m2/2\u001b[0m \u001b[32m━━━━━━━━━━━━━━━━━━━━\u001b[0m\u001b[37m\u001b[0m \u001b[1m0s\u001b[0m 82ms/step - accuracy: 0.9777 - loss: 0.2817 - val_accuracy: 0.5714 - val_loss: 0.8733\n",
            "Epoch 73/100\n",
            "\u001b[1m2/2\u001b[0m \u001b[32m━━━━━━━━━━━━━━━━━━━━\u001b[0m\u001b[37m\u001b[0m \u001b[1m0s\u001b[0m 59ms/step - accuracy: 1.0000 - loss: 0.2568 - val_accuracy: 0.5714 - val_loss: 0.8742\n",
            "Epoch 74/100\n",
            "\u001b[1m2/2\u001b[0m \u001b[32m━━━━━━━━━━━━━━━━━━━━\u001b[0m\u001b[37m\u001b[0m \u001b[1m0s\u001b[0m 55ms/step - accuracy: 0.9881 - loss: 0.2464 - val_accuracy: 0.5714 - val_loss: 0.8758\n",
            "Epoch 75/100\n",
            "\u001b[1m2/2\u001b[0m \u001b[32m━━━━━━━━━━━━━━━━━━━━\u001b[0m\u001b[37m\u001b[0m \u001b[1m0s\u001b[0m 81ms/step - accuracy: 1.0000 - loss: 0.2528 - val_accuracy: 0.5714 - val_loss: 0.8780\n",
            "Epoch 76/100\n",
            "\u001b[1m2/2\u001b[0m \u001b[32m━━━━━━━━━━━━━━━━━━━━\u001b[0m\u001b[37m\u001b[0m \u001b[1m0s\u001b[0m 61ms/step - accuracy: 0.9658 - loss: 0.2654 - val_accuracy: 0.5714 - val_loss: 0.8804\n",
            "Epoch 77/100\n",
            "\u001b[1m2/2\u001b[0m \u001b[32m━━━━━━━━━━━━━━━━━━━━\u001b[0m\u001b[37m\u001b[0m \u001b[1m0s\u001b[0m 58ms/step - accuracy: 1.0000 - loss: 0.2353 - val_accuracy: 0.5714 - val_loss: 0.8822\n",
            "Epoch 78/100\n",
            "\u001b[1m2/2\u001b[0m \u001b[32m━━━━━━━━━━━━━━━━━━━━\u001b[0m\u001b[37m\u001b[0m \u001b[1m0s\u001b[0m 77ms/step - accuracy: 1.0000 - loss: 0.2504 - val_accuracy: 0.5714 - val_loss: 0.8840\n",
            "Epoch 79/100\n",
            "\u001b[1m2/2\u001b[0m \u001b[32m━━━━━━━━━━━━━━━━━━━━\u001b[0m\u001b[37m\u001b[0m \u001b[1m0s\u001b[0m 68ms/step - accuracy: 0.9777 - loss: 0.2674 - val_accuracy: 0.5714 - val_loss: 0.8859\n",
            "Epoch 80/100\n",
            "\u001b[1m2/2\u001b[0m \u001b[32m━━━━━━━━━━━━━━━━━━━━\u001b[0m\u001b[37m\u001b[0m \u001b[1m0s\u001b[0m 59ms/step - accuracy: 1.0000 - loss: 0.2414 - val_accuracy: 0.5714 - val_loss: 0.8873\n",
            "Epoch 81/100\n",
            "\u001b[1m2/2\u001b[0m \u001b[32m━━━━━━━━━━━━━━━━━━━━\u001b[0m\u001b[37m\u001b[0m \u001b[1m0s\u001b[0m 73ms/step - accuracy: 1.0000 - loss: 0.2266 - val_accuracy: 0.5714 - val_loss: 0.8879\n",
            "Epoch 82/100\n",
            "\u001b[1m2/2\u001b[0m \u001b[32m━━━━━━━━━━━━━━━━━━━━\u001b[0m\u001b[37m\u001b[0m \u001b[1m0s\u001b[0m 57ms/step - accuracy: 0.9777 - loss: 0.2418 - val_accuracy: 0.5714 - val_loss: 0.8882\n",
            "Epoch 83/100\n",
            "\u001b[1m2/2\u001b[0m \u001b[32m━━━━━━━━━━━━━━━━━━━━\u001b[0m\u001b[37m\u001b[0m \u001b[1m0s\u001b[0m 56ms/step - accuracy: 0.9881 - loss: 0.2429 - val_accuracy: 0.5714 - val_loss: 0.8880\n",
            "Epoch 84/100\n",
            "\u001b[1m2/2\u001b[0m \u001b[32m━━━━━━━━━━━━━━━━━━━━\u001b[0m\u001b[37m\u001b[0m \u001b[1m0s\u001b[0m 75ms/step - accuracy: 1.0000 - loss: 0.2166 - val_accuracy: 0.5714 - val_loss: 0.8878\n",
            "\u001b[1m1/1\u001b[0m \u001b[32m━━━━━━━━━━━━━━━━━━━━\u001b[0m\u001b[37m\u001b[0m \u001b[1m0s\u001b[0m 35ms/step - accuracy: 0.5714 - loss: 0.8725\n",
            "Test Accuracy: 0.5714\n"
          ]
        },
        {
          "name": "stderr",
          "output_type": "stream",
          "text": [
            "WARNING:tensorflow:6 out of the last 8 calls to <function TensorFlowTrainer.make_predict_function.<locals>.one_step_on_data_distributed at 0x78e497575c60> triggered tf.function retracing. Tracing is expensive and the excessive number of tracings could be due to (1) creating @tf.function repeatedly in a loop, (2) passing tensors with different shapes, (3) passing Python objects instead of tensors. For (1), please define your @tf.function outside of the loop. For (2), @tf.function has reduce_retracing=True option that can avoid unnecessary retracing. For (3), please refer to https://www.tensorflow.org/guide/function#controlling_retracing and https://www.tensorflow.org/api_docs/python/tf/function for  more details.\n"
          ]
        },
        {
          "name": "stdout",
          "output_type": "stream",
          "text": [
            "\u001b[1m1/1\u001b[0m \u001b[32m━━━━━━━━━━━━━━━━━━━━\u001b[0m\u001b[37m\u001b[0m \u001b[1m0s\u001b[0m 405ms/step\n",
            "              precision    recall  f1-score   support\n",
            "\n",
            "           0       0.54      1.00      0.70         7\n",
            "           1       1.00      0.14      0.25         7\n",
            "\n",
            "    accuracy                           0.57        14\n",
            "   macro avg       0.77      0.57      0.47        14\n",
            "weighted avg       0.77      0.57      0.47        14\n",
            "\n"
          ]
        }
      ],
      "source": [
        "import mne\n",
        "import numpy as np\n",
        "import pandas as pd\n",
        "import matplotlib.pyplot as plt\n",
        "from sklearn.model_selection import train_test_split\n",
        "from sklearn.preprocessing import StandardScaler, OneHotEncoder\n",
        "from sklearn.metrics import classification_report\n",
        "from tensorflow.keras import layers, models, regularizers, optimizers, callbacks\n",
        "\n",
        "# File Paths\n",
        "edf_files = {\n",
        "    \"background\": ['/content/drive/MyDrive/eeg-during-mental-arithmetic-tasks-1.0.0/Subject{:02d}_1.edf'.format(i) for i in range(1, 36)],\n",
        "    \"task\": ['/content/drive/MyDrive/eeg-during-mental-arithmetic-tasks-1.0.0/Subject{:02d}_2.edf'.format(i) for i in range(1, 36)]\n",
        "}\n",
        "csv_file = '/content/drive/MyDrive/eeg-during-mental-arithmetic-tasks-1.0.0/subject-info.csv'\n",
        "\n",
        "# Frequency Bands\n",
        "bands = {'Delta': (1, 4), 'Theta': (4, 8), 'Alpha': (8, 12), 'Beta': (12, 30), 'Gamma': (30, 100)}\n",
        "\n",
        "# Data Initialization\n",
        "features = []\n",
        "labels = []\n",
        "subject_data = []\n",
        "\n",
        "# Load Subject Info\n",
        "subject_info = pd.read_csv(csv_file, delimiter='\\t')\n",
        "\n",
        "# Preprocessing & Feature Extraction\n",
        "for i in range(35):\n",
        "    for condition, files in edf_files.items():\n",
        "        raw = mne.io.read_raw_edf(files[i], preload=True)\n",
        "\n",
        "        # Artifact Removal (ICA)\n",
        "        ica = mne.preprocessing.ICA(n_components=15, random_state=97)\n",
        "        ica.fit(raw)\n",
        "        raw = ica.apply(raw)\n",
        "\n",
        "        # PSD Calculation\n",
        "        psds, freqs = mne.time_frequency.psd_array_welch(raw.get_data(), sfreq=raw.info['sfreq'], fmin=1, fmax=100, n_fft=2048)\n",
        "\n",
        "        # Band-wise Power Features\n",
        "        band_powers = []\n",
        "        for band, (fmin, fmax) in bands.items():\n",
        "            idx_band = np.where((freqs >= fmin) & (freqs <= fmax))[0]\n",
        "            band_powers.append(np.mean(psds[:, idx_band], axis=1))\n",
        "\n",
        "        features.append(np.array(band_powers).T)\n",
        "        labels.append(1 if condition == 'task' else 0)\n",
        "        subject_data.append(subject_info.iloc[i].tolist())\n",
        "\n",
        "# Convert to Arrays & Standardize\n",
        "features = np.array(features)\n",
        "labels = np.array(labels)\n",
        "subject_data = np.array(subject_data)\n",
        "\n",
        "# One-Hot Encode Subject Data\n",
        "encoder = OneHotEncoder(handle_unknown='ignore')\n",
        "subject_data_encoded = encoder.fit_transform(subject_data).toarray()\n",
        "\n",
        "# Standardize Features\n",
        "scaler = StandardScaler()\n",
        "features = scaler.fit_transform(features.reshape(-1, features.shape[-1])).reshape(features.shape)\n",
        "\n",
        "# Train-Test Split\n",
        "X_train, X_test, y_train, y_test = train_test_split(features, labels, test_size=0.2, random_state=42, stratify=labels)\n",
        "\n",
        "# Model Definition (Enhanced TSCeption with RNN & Regularization)\n",
        "def build_enhanced_tsception_model(nb_classes, Chans, Samples):\n",
        "    input_layer = layers.Input(shape=(Chans, Samples))\n",
        "\n",
        "    conv1 = layers.Conv1D(filters=32, kernel_size=10, activation='relu', padding='same')(input_layer)\n",
        "    conv1 = layers.BatchNormalization()(conv1)\n",
        "    conv1 = layers.MaxPooling1D(pool_size=2)(conv1)\n",
        "\n",
        "    conv2 = layers.Conv1D(filters=64, kernel_size=5, activation='relu', padding='same')(conv1)\n",
        "    conv2 = layers.BatchNormalization()(conv2)\n",
        "    conv2 = layers.MaxPooling1D(pool_size=2)(conv2)\n",
        "\n",
        "    conv3 = layers.Conv1D(filters=128, kernel_size=3, activation='relu', padding='same')(conv2)\n",
        "    conv3 = layers.BatchNormalization()(conv3)\n",
        "    conv3 = layers.MaxPooling1D(pool_size=2)(conv3)\n",
        "\n",
        "    conv4 = layers.Conv1D(filters=256, kernel_size=3, activation='relu', padding='same')(conv3)\n",
        "    conv4 = layers.BatchNormalization()(conv4)\n",
        "    conv4 = layers.MaxPooling1D(pool_size=2)(conv4)\n",
        "    conv5 = layers.Conv1D(filters=512, kernel_size=3, activation='relu', padding='same')(conv4)\n",
        "    conv5 = layers.BatchNormalization()(conv5)\n",
        "    conv5 = layers.MaxPooling1D(pool_size=2)(conv5)\n",
        "\n",
        "    flatten = layers.Flatten()(conv4)\n",
        "    reshape = layers.Reshape((1, -1))(conv4)  # Reshape to (batch_size, 1, num_features)\n",
        "\n",
        "    lstm = layers.LSTM(128)(reshape)\n",
        "    dense1 = layers.Dense(512, activation='relu', kernel_regularizer=regularizers.l2(0.001))(lstm)\n",
        "    dense1 = layers.Dropout(0.5)(dense1)\n",
        "    output_layer = layers.Dense(nb_classes, activation='softmax')(dense1)\n",
        "\n",
        "    model = models.Model(inputs=input_layer, outputs=output_layer)\n",
        "    return model\n",
        "\n",
        "# Model Building & Compilation\n",
        "Chans, Samples = X_train.shape[1], X_train.shape[2]\n",
        "model = build_enhanced_tsception_model(2, Chans, Samples)\n",
        "model.compile(loss='sparse_categorical_crossentropy', optimizer=optimizers.Adam(learning_rate=0.0001), metrics=['accuracy'])\n",
        "\n",
        "# Training\n",
        "history = model.fit(\n",
        "    X_train, y_train,\n",
        "    epochs=100,\n",
        "    batch_size=32,\n",
        "    validation_data=(X_test, y_test),\n",
        "    callbacks=[callbacks.EarlyStopping(patience=15, restore_best_weights=True)]\n",
        ")\n",
        "\n",
        "# Evaluation and Reporting\n",
        "loss, accuracy = model.evaluate(X_test, y_test)\n",
        "print(f'Test Accuracy: {accuracy:.4f}')\n",
        "\n",
        "y_pred = np.argmax(model.predict(X_test), axis=-1)\n",
        "print(classification_report(y_test, y_pred))\n"
      ]
    }
  ]
}